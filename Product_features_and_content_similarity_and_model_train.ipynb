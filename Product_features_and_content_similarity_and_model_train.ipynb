{
  "nbformat": 4,
  "nbformat_minor": 0,
  "metadata": {
    "colab": {
      "name": "Product_features_and_content_similarity_and_model_train",
      "provenance": [],
      "collapsed_sections": []
    },
    "kernelspec": {
      "display_name": "Python 3",
      "language": "python",
      "name": "python3"
    },
    "language_info": {
      "codemirror_mode": {
        "name": "ipython",
        "version": 3
      },
      "file_extension": ".py",
      "mimetype": "text/x-python",
      "name": "python",
      "nbconvert_exporter": "python",
      "pygments_lexer": "ipython3",
      "version": "3.8.5"
    }
  },
  "cells": [
    {
      "cell_type": "code",
      "metadata": {
        "colab": {
          "base_uri": "https://localhost:8080/"
        },
        "id": "d-FiVAB8Z11O",
        "outputId": "5c4c03c0-51d5-4d7a-ac64-79d182f99ac2"
      },
      "source": [
        "import numpy as np\n",
        "import pandas as pd\n",
        "# from nltk import bigrams,trigrams\n",
        "from sklearn.feature_extraction.text import CountVectorizer,TfidfVectorizer\n",
        "from sklearn.ensemble import GradientBoostingClassifier, RandomForestClassifier\n",
        "import re\n",
        "from sklearn.model_selection import train_test_split\n",
        "from sklearn.metrics import accuracy_score\n",
        "from textblob import TextBlob\n",
        "from sklearn.decomposition import TruncatedSVD\n",
        "from nltk.corpus import stopwords\n",
        "import nltk\n",
        "nltk.download('stopwords')\n",
        "from nltk.stem import PorterStemmer\n",
        "from collections import defaultdict\n",
        "from sklearn.feature_extraction.text import TfidfVectorizer\n",
        "nltk.download('wordnet') # first-time use only\n",
        "import nltk, string, numpy\n",
        "nltk.download('punkt') # first-time use only\n",
        "import sys\n",
        "np.set_printoptions(threshold=sys.maxsize)\n",
        "from sklearn import preprocessing\n",
        "from sklearn.ensemble import GradientBoostingClassifier, RandomForestClassifier\n",
        "from sklearn.decomposition import TruncatedSVD\n",
        "from sklearn.model_selection import train_test_split\n",
        "from sklearn.metrics import accuracy_score\n",
        "from sklearn.decomposition import PCA\n",
        "from sklearn.model_selection import StratifiedKFold\n",
        "from sklearn.metrics import accuracy_score,precision_score,recall_score,f1_score"
      ],
      "execution_count": null,
      "outputs": [
        {
          "output_type": "stream",
          "text": [
            "[nltk_data] Downloading package stopwords to /root/nltk_data...\n",
            "[nltk_data]   Unzipping corpora/stopwords.zip.\n",
            "[nltk_data] Downloading package wordnet to /root/nltk_data...\n",
            "[nltk_data]   Unzipping corpora/wordnet.zip.\n",
            "[nltk_data] Downloading package punkt to /root/nltk_data...\n",
            "[nltk_data]   Unzipping tokenizers/punkt.zip.\n"
          ],
          "name": "stdout"
        }
      ]
    },
    {
      "cell_type": "code",
      "metadata": {
        "id": "pf0daz2bZ11a"
      },
      "source": [
        "#Read review Content File"
      ],
      "execution_count": null,
      "outputs": []
    },
    {
      "cell_type": "code",
      "metadata": {
        "id": "3whH-rvQZ11c"
      },
      "source": [
        "file1 = open(\"/content/reviewContent\")\n",
        "review = defaultdict(list)\n",
        "for row in file1:\n",
        "    # temp = row.split()\n",
        "    text = re.split(r'\\t+', row)\n",
        "    row = re.sub('[^a-zA-Z0-9 \\n\\..]', '', text[-1])\n",
        "    review[text[1]].append(row)\n",
        "\n",
        "file1.close()"
      ],
      "execution_count": null,
      "outputs": []
    },
    {
      "cell_type": "code",
      "metadata": {
        "id": "qUM-8GMGT3QU"
      },
      "source": [
        "#Read Feature CSV"
      ],
      "execution_count": null,
      "outputs": []
    },
    {
      "cell_type": "code",
      "metadata": {
        "id": "m0l1QM9bliJm"
      },
      "source": [
        "file1 = open(\"/content/featuresAll.csv\")\n",
        "arr = []\n",
        "for row in file1:\n",
        "    text = re.split(r'\\t+', row)\n",
        "    arr.append(text)\n",
        "\n",
        "file1.close()"
      ],
      "execution_count": null,
      "outputs": []
    },
    {
      "cell_type": "code",
      "metadata": {
        "colab": {
          "base_uri": "https://localhost:8080/"
        },
        "id": "ZFCete0JmAOR",
        "outputId": "8f329a79-537e-4c57-e758-369dc8d0a478"
      },
      "source": [
        "#print(arr[1])"
      ],
      "execution_count": null,
      "outputs": [
        {
          "output_type": "stream",
          "text": [
            "['0.195833333,0.395833333,143,0.896513588,141,0.043510066,0.005451478,4.00952381,210,37.41025641,39,0,0.974358974,0.025641026,1.625,3,136.0394737\\n']\n"
          ],
          "name": "stdout"
        }
      ]
    },
    {
      "cell_type": "code",
      "metadata": {
        "id": "yz1YNZG1mKAG"
      },
      "source": [
        "#a1 = preprocessing.normalize(np.array(arr[1:]), norm='max', axis=1)"
      ],
      "execution_count": null,
      "outputs": []
    },
    {
      "cell_type": "code",
      "metadata": {
        "colab": {
          "base_uri": "https://localhost:8080/"
        },
        "id": "MaVd2HVho3K0",
        "outputId": "d07fd153-5972-4e30-fb62-53563cbcbcd2"
      },
      "source": [
        "#print(review['1'])"
      ],
      "execution_count": null,
      "outputs": [
        {
          "output_type": "stream",
          "text": [
            "['My wife and I took my parents there for lunch and were greeted by stares from the staff with no greeting whatsoever despite there being only five people in the entire place. This was followed by a rude abrupt waitress who acted like we had to speed talk to place an order. To cap off this wonderful experience the pizza was non descript and the pasta tasted like it had been ordered from a diner. So poor in fact that my two kids who normally love pasta refused to eat theirs. Wont be back and will definitely not recommend this place to anyone.\\n', 'Got a margarita pizza. First off let me say very expensive that one pie came out to 25 with 2 simple toppings on it. Secondly the was a piece of hair in it. Also the sauce was bland. My table was all oily. Definitely not recommending this place might as well go down the block to Tommys. Again HORRIBLE.\\n', 'The food is average pizzeria and not cheap. Add that to the fact that I puked my guts out in the bathroom during the meal and Ive decided not to go back.\\n', 'I can not fathom why people would give this restaurant more than a star or two. Im starting to find Yelp reviews unreliable. This was our first time ordering from Peppinos and we will never eat their food again. Overpriced for the quality. I gave one star for prompt delivery and one star because the food wasnt horrible. It was just bad. Their bread is tasteless this goes for their crust and garlic crisps. No flavor whatsoever. Same with the plain pizza. We couldnt even finish a slice. The marina sauce is coated with a layer of oil and tastes burnt. The penne ala vodka was fine but again lacked flavor. The eggplant parm roll tasted old. If you want good pizza on 5th Ave go to Brooklyn Central or La Villa which also has amazing pasta and appetizers.\\n', 'Went here during the time it was busy and i got a regular slice. When i received it it was just warm.... i rather have my pizza hot but maybe its just because it was busy but still...\\n', 'never lets me down If you order a lot you can def. rack up a bill but let me tell you it is worth it I would just like waitresses that are little more with it. Other than that.. the BEST pizza ever\\n', 'Pizza was not bad however not great either. Prices are reasonable. I think they can work on there service.\\n', 'Peppinos is far superior to your typical neighborhood slice shop but it isnt a destination pizza place. The staff is friendly to a fault which almost makes up for the errors in their food. 2 out of the last 3 times that Ive ordered pies from them they have put the wrong toppings on the pies. Im not a picky guy but it is annoying when you are paying 20  for a pizza. Im not sure what the issue is but I hope they get it fixed. Delivery service is inconsistent in delivery time 1545 minutes but the food does arrive hot every time. In addition to their pies their salads and sandwiches are also delicious especially the pepperoni hero.\\n', 'Solid place good pizza\\n', 'I am impressed with this place. I love pizza but Solid oven pizza was my frist time to try. Amazing and delicious. It s one of my best pizza experience of NYC I cant wait to go back for more. after I missed NYCs Biggest Pizza Party\\n', 'Cute little spot very old school feeling. Theyve got brick oven pizza which is always a plus. But if your not ordering a whole pie sometimes the pizzas hit or miss. The bruschetta the diavolo these are not. they are always spot on and delicious. get a pizza as an app for the table if youve got a group and then chow down on their actual dishes. good stuff.\\n', 'This restaurant helped me planned a lastminute birthday party for my daughter after another place cancelled at the last minute. Pizza was crisp and delicious and the waitstaff were patient with a room full of 9 yos. Its not fancy or gourmet its just honest pizza and god service at a fair price.\\n', 'The quattro stagioni reminds me of great pizzas from my childhood. I highly recommend this place for delivery.\\n', 'I order from this place at least twice a week. There ceaser salad is great comes with amazing garlic crisps which are so yummy I come here frequently for dinner also with my 2 kids  they are very accommodating No weird faces when you have to seat a stroller  a highchair Thx for your good food  good manners\\n', 'Wonderfully delicious pizza One of my favorite places to go in Brooklyn.\\n', 'Pretty good cheesesteak subs. Pizza from a brick oven a plus. Good service too.\\n', 'Nice atmosphere and good service. They have a great menu for everyone. Crispy pizza and good taste.\\n', 'Amazing food I went with a friend and had one of their daily specials with seafood and red sauce. It was out of this world. The portion lasted me for the next days lunch. Nice friendly stuff. Overall good experience. Will go back and would recommend it to friends.\\n', 'Peppinos surprised me quite a bit. I wasnt sure what to think of the place when I first walked in but the atmosphere was warm and inviting. I sat down and had a Margarita Pie and it was to die for Just the correct amount of sauce to cheese ratio it came to our table piping hot and the sauce wasnt overly sweet which is a pet peeve of mine. I cant wait to go back and try some of the steak sandwiches I hear theyre great\\n', 'Manager was extra helpful and friendly. Food was delicious. Place was nice and clean.\\n', 'Great pizza My go to place when I want something that hits the spot. They use all fresh ingredients and they are very generous with their pizza topping . Def check them out if you havent already .. You wont be disappointed\\n', 'Pricey but great Italian food Best around\\n', 'This probably one of my top 10 favorite restaurants I order the ravioli and it was amazing The marina sauce was the best Homemade and delicious. Though I recommend coming in hungry because it fills you up and portion are kinda big. It was a like I was in Italy and the atmosphere is very laid back.  Definitely A must if your visiting New York\\n', 'Great place great food. I have in both Brooklyn locations and have almost enjoy a good meal.\\n', 'I rarely comment about my experiences at restaurants but needed to take the time to thank Peppinos for the truly amazing food and excellent service The Bruschetta is a must have so so yummy trust me. My main meal of Penne a la vodka was unforgettable. My Hunny had the Philly Cheese Steak which of course I needed to try it was incredible needless to say no more driving to Philadelphia for us. Pricing is excellent for the amount of food that is served If I could give a 10 star rating they would get it for sure. On another note we were at the restaurant when that musician came into the restaurant. What an unprofessional jerk Yes the manager was trying to find out what was going on in the middle of dinner service making tons of calls and trying not to let it affect the patrons. Kiddos to Peppinos for not allowing the musician to play and standing their ground. I ENJOY the family restaurant values WE WILL BE BACK OFTEN\\n', 'Both spots are great I believe theres one in Park Slope and one in Bay ridge. Both places make great brick oven pizza. Def got my stamp of approval 5 star all day every day. Margherita pizza is really good at Peppinos you will savor every bite. They even deliver pretty far. So if your in the Ft Greene area and your in the mood for some pizza give these guys a call.\\n', 'Enjoyed the pizza . Very fresh and flavorful. Worth the wait.\\n', 'My husband and I visit Peppinos once a week and always enjoy the food. I just wanted to let everyone know what type of people they are. I know a neighborhood girl that married and moved to Breezy Point to raise her 5 children and has recently been displaced because of Hurricane Sandy. When I mentioned it to one of the owners of Peppinos they immediately invited the intire family for dinner on them. These are real family neighborhood people  God Bless them for doing such a good thing\\n', 'I think it is a family run business which makes it even better in my book. The pizza is fantastic here and the service is always great. The vodka sauce and garlic crisps are real good too\\n', 'Let me start with Ive only every had their delivery... that being said theyre super fast super nice and super DELICIOUS The vodka pie is honestly amazing. A little too good like Im already really full but I should probably have just one more slice good. A large isnt a huge pie but with how good it is take that as a saving grace I definitely recommend \\n', 'This place is pretty close to perfect. Amazing brick oven wood fired pizza incredible heros made with homemade amazing dough. Sauce is fresh barely touched using great products. Incredibly warm and nice staff both in person and on the phone. This isnt a complaint but a request.... I wish they had a few more appetizer choices i think they could do a really good fried mozzarella app fried calamari maybe an arancine I also wish they would make a clam pizza which when done well by great pizza restaurants is absolutely amazing.  I just feel like they would do everything well and this would be great. Keep it up Peppinos you guys are great in every way.\\n', 'Okay here It is. Went to Grimaldis and the line was way too long. Yelped a few places and found reviews for Peppinos. Read a review about the place and decided to take my party of five to Park Slope. WOW. We started with bruschette and a mozzarella appetizer. Then we got some pizzas and pastas. Vodka and margerita pie were amazing. Fusilli were amazing and i really enjoyed the orecciette pasta dish. All the food was tasty and the service was great. I would highly reccomend this place quality food at the rite price. Peppinos is my new spot.\\n', 'We have lived in Park Slope for three years and only now FINALLY have found a pizza place we love. Since we live about 14 blocks away I hadnt realized they would deliver to us but it was no problem. We ordered six large pizzas for a party Margheritas and Diavolas and the staff was incredibly friendly responsive and right on time. Sometimes delivered pizza isnt so good but this was still hot and just perfect. They were quick. I thought maybe I had ordered too much but that definitely wasnt the case  everyone loved it. Will definitely order again and maybe trek over to eat at the restaurant too.\\n', 'Best pizza in the slope. There thin crust margherita pizza is delicious. The crust is crunchy and the sauce is perfect. A few slaps of fresh mozzarella and you have a great pie of pizza. It can be a bit pricey compared to some other pizzerias but you pay for quality so I dont mind not one bit.\\n', 'My husband has a love for brick oven pizza and when we found Peppinos on a weekend stroll through Park Slope he was in heaven. We ordered the Margherita pie well done I dont like a soggy center with extra fresh basil and it was DELICIOUS The crust was perfect not too thick or too thin the sauce was flavorful and there was just enough fresh mozzarella that you didnt feel guilty eating a slice or the whole pie which we did  The staff is very accomodating and attentive. Weve made it our Saturday lunch spot and cant wait to try out all the other items on their menu. Happy Eating\\n', 'Seriously. I want to sew my  shut so it would never leave me. This place has the best pizza ever. Its a weekly favorite at my apartment Ive only had delivery never been there.... but wow Get a large pie with peperoni ham sausage and mushroom. Mmmm\\n', 'Best Pizza in Brooklyn. I tried others and I have to say that they dont even come close. Cheesesteaks are great and the pasta dishes are real deal. Love this place.\\n', 'Quite simply the most delicious pizza youll get in the slope. Whether a slice or a pie its an amazing taste sensation to rock your world\\n', 'I moved about a block away from Peppinos and it quickly became my go to place for when I want a tasty margherita pizza. The atmosphere is comfortable inside the waitstaff er waitress  its been the same woman every time Ive been is incredibly nice and the bruschetta is to die for. Seriously  my wife a phenomenal cook has been trying to replicate it at home but something about the bread is hard to pin down. I recommend that you get a Caesar salad a small margherita pizza and the bruschetta to share if there are two of you and youre particularly hungry.  Also if you want to split the salad they go ahead and put it into two bowls for you. How cool is that for the down the street pizza joint\\n', 'WOW. I love the Margaretta pizza Thin crust crunchy full of flavor its amazing but it doesnt end there. The past dishes are amazing and the best thing about it is you can order specials and they will make it for you. The fish specials and the Baked clams are full of flavor and SO FRESH. When i walked into this place i was expecting a pizzeria what i got was a full on Italian gourmet restaurant... Its very cute and family oriented. The Pizza is amazing original Margareta is the Best and if you want something different i suggest you should try the Arugula Pizza The Pasta is Fantastic. The sandwiches are amazing esp the grilled chicken fresh mozzarella roasted peppers and balsamic vinegar.. Mouth Watering The appetizers are amazing.Try the Baked Clams or the Bruschetta I am without question and beyond doubt a Fan For LIFE\\n', 'Best Margherita pizza Ive tasted ever anywhere. The crust is thin and oven crisp the mozzarella is fresh and delicious and there are fresh basil leaves baked right on top. Too delicious Fast local delivery too.\\n', 'Wow I was thoroughly surprised about this restaurant. The Penne a la Vodka was out of this world. I hear they have another restaurant in Bay Ridge. Wish there was one on every corner.\\n', 'Excellent pizza really friendly neighborhood place. Very generous portions for salad and pasta too  and never a long wait for a table.\\n', 'Ate here last night was able to get seated around 7pm immediately there were 4 of us. I had a cappuccino with whipped cream and cinnamon which was delicious and warmed me up right away. The pizza was delicious as well I forget the names but I ordered a pizza with mushrooms olives ham and artichokes  YUM The crust was crunchy and I loved how I could really taste the smokeyness from the brick oven. Would definitely come backorder takeout from them again\\n', 'Delicious food and great customer service Will definitely return. We love getting the margarita pie with pepperoni and the kids love the penne vodka with chicken. Love this place. Top pizza joint in NYC.\\n', 'Good not great. The pizza chef that deigns to use canned mushrooms commits the pinnacle of pizza heresy. Especially at 24.95 for a small enough for two and leftovers I expect someone to forage for even the most basic button shroom. Mellow about mushrooms I am not. Other tasting notes great crust sauce on the watery side quality sausage\\n', 'Wonderfully authentic brick oven pizza. Nothing pretentious about this place. Great pizza great staff great experience. I wish more places got it like this place gets it. Best pizza in the neighborhood but would be worth going the extra mile to get here if I didnt leave here.\\n', 'We get plain pizza most of the time half with pepperoni. My wife is very picky when it comes to pizza and shes obsessed with how great a pie is. Im also really into their eggplant rolls  probably the best Ive ever had. If the pricing scares you away I suggest making the splurge. Totally worth it.\\n', 'We love this pizza Always delicious\\n', 'The Diavola pizza was absolutely amazing and the service superb. I will definitely make this my new local regular pizza spot.\\n', 'Much needed review this place is another awesome brick oven pizza place good for a couple or a sunday treat..fresh yummy and the food presentation is classy service goodwould recommend.\\n', 'Yelp did not lead me astray on this recommendation. The small pizza is huge. We did ours half and half  prosciutto  the blanca. Both were so good and totally what you want when you think NY pizza.\\n', 'Came up to Brooklyn for the day to see a show afterwards I just wanted somewhere quick not too crowded and that had beer available. Used Yelp to find this pizza joint. When we got there we ordered a round of drinks and a large Diavola. Took less than fifteen minutes for the pie to come out. The pie itself was awesome I didnt want to stop eating it. I was actually almost tempted to order another pie to take home The staff also was quick and really friendly. Thumbs up to Peppinos\\n', 'This place serves the best good basic pizza in Park Slope. If you want a fancy pizza go to Frannys but if you want good solid basic pizza Peppinos is where you want to be.\\n', 'WOW. We looked at restaurants on our GPS under Italian and this came up. Walked in the smell would bring you to your knees. PLUS they were playing Italian Opera. My boss said if it is half as good as it smells we are in for a treat. Well it was better than that. My boss is a pro with Philly steaks and Philly Hoagies and he had one that he said was a HOMERUN One of the best he has had. Italian food is my most favorite and I had Penne Alla Boscaiola.  OUT OF THIS WORLD. I have eaten in the little Italys in Boston New York Scotland San Francisco Minneapolis MN to name a few. The food quality was 5 Diamonds that all I can say. I will make plans whenever I am NEAR this place to go in and try other items. Our tiny waitress with her cool black glasses Tanya I do not remember was personable and just so funny about her restaurant. Try it you cannot lose\\n', 'Ive never eaten at their storefront but I have ordered from them a lot and still do if Im in the area. Im not a big fan of brick oven pizza and never really had theirs so I cant really comment on the pizza but everything else they make from their heroes and rolls to the their pastas and salads are all on point. Their Philly cheese steaks are a bit salty but still among the best Ive ever had in Brooklyn.\\n', 'I wish I could give this 3.5 stars but I dont think it deserves 4. Good if not too acidic pizza. Everything else a little too rough around the edges. Very nice and attentive staff they were very accommodating when we asked to exchange our dessert which was inedible old and freezer burnt tasting amaretto ice cream.\\n', 'Amazing brick oven pizza My gf  I tried it for the first time tonight and were blown away Definitely coming here again.\\n', 'Been here 100 times and its always been delicious. Im pretty sure Ive tried everything on their menu and its consistently good. Ive been here for lunch dinner and events and the staff never disappoints me. If you go make sure you try their margherita pie and one of their cheese steak specials. You will be glad you did. Oh and just a random addition Im COMPLETELY obsessed with their muscles in red sauce. I get a tray every year for Christmas Eve and my family goes nuts over it\\n', 'There are a bunch of Italian restaurants in Park Slope. I honestly like to avoid them because of the carbs so coming here was just out of spontaneity. My mate had the garlic bread  even though there was already complimentary nice and warm bread. Pizza dough slices were nice and toasty  though could use a touch more garlic. The sausage pasta alfredo was super yummy  though it sort of turns a bit into a greasy mess the next day leftovers. Would be back if I ever have a carb hankering. Winter would be nice  as the oven is right next to the bathroom super toasty\\n', 'Just had dinner at Peppinos. We had spaghetti with meatballs  a huge heaping tasty platter and the make your own pizza sweet italian sausage  mushrooms  pepperoni  onions on a wheat crust. The pizza came out on the regular nonwheat crust but the ownermanager came out and apologized for the error and made up for it by making us another pie same toppings with wheat crust at no extra charge. We appreciated the excellent food excellent service and the way they go the extra mile to make sure the customers are happy. Authentic Italian food with excellent service and a great atmosphere.\\n', 'Peppinos is a very solid neighborhood family friendly pizza restaurant. We usually get the margarita pizza which is fantastic with very fresh mozzarella and tomato sauce. The servers are extremely friendly and the pizza and sandwiches are just all great. The service variety on the menu and non existent lines most of the time make this place a go to for me and my girlfriend. I highly recommend this place\\n', 'First let me say the food is great. This is the 2nd time we were here both times the food had been great but the 2nd time the service was not good at all. We ordered a pizza 27.00  the black olives when the order came we had black olives on the pizza. If I am going to pay that much for a pizza at least get my order right.. We did not want to wait so we picked them off. I was expecting at least something off the pizza but no we almost did not even get a sorry. I also ordered a kids past for my boys to split it was 16.00 a little much for a kids order of pasta. We enjoyed the food but were not happy with the service or the price.\\n', 'Great service and great food. Lost a star due to hot hot hot bathroom with only scalding hot water out of sink. Cold faucet is burning burning hot I guess thats what happens when the bathroom is next to a wood cooking stove Great food and great service though. Would happily return\\n', 'The pizza is GREAT And the service is BETTER We ate a cheese pizza I can say every part of the pizza was on point. The crustthe pie and the toppings were all fresh Next time I come to Brooklyn this is the place that will have my business\\n', 'Excellent pizza was walking by and the recession special caught my eye but the yelp reviews drew me in the service and ultimately execution knocked it out of the park. The first time was just the recession special an amazing deal at 5 and change for two slices and a fountain soda. What sealed it was ordering delivery had two large pies one plain and one pepperoni and the quoted delivery time was 3045 however the pizza was here between 2030 minutes. At the end of the day the brick oven taste is the lasting memory but the attention to detail leaves you wanting more. As for the taste Im one for a million toppings on my pizza and i still prefer the plain.\\n', 'This place is amazing I really loved their appetizers specially the backed muscles abd the mozzarella basil salad and the shrimp there is really good as well one of the places I really loved their food in New York.\\n', 'really good pizza for a really good price.\\n', 'Great pizza with a fresh and crispy crust and wide variety of toppings. Definitely the best pizza in the area. The delivery is a bit spotty but I think that is mostly due to my ordering at high volume times. In addition the owner or maybe the manager on duty called as a follow up to ensure my satisfaction with the order. I highly appreciate this kind of service which is also present in the restaurant itself. The young wait staff is well trained and very accommodating. I look forward to many more meals in the family friendly neighborhood spot.\\n', 'This place makes an amazing pizza pie. Perfect crispness tangy sauce fresh mozzarella that doesnt make the pie damp and the perfect amount of fresh basil. Our 6  7 year old nieces loved it too.\\n', 'I walk by this place every day and after a friend nominated it the best pizza in Park Slope I felt compelled to try it. My boyfriend and I went here a few nights ago and had the bruschetta as an appetizer and a small halfpepperoni and cheese his half and halfpizza a la vodka mine We were impressed The bruschetta was fresh full of onions and garlic yum. The pizza came out fairly quickly and I am definitely a fan of their brick oven style. The small pizza was more than enough for the two of us especially after the appetizer. My boyfriend loved his little crispy pepperonis and I loved the more bold flavors of my half. We each had a slice to take home to enjoy the next day. Our server was friendly and everything went smoothly The restaurant itself is cute and casual I would definitely come back when Im in the mood for some good pizza.\\n', 'Heres another place I wish I had tried sooner I mean it is in my neighborhood I guess I always just ignored it because it replaced the beloved Aniellos pizzeria that was in the neighborhood for years and had become well known with the old school locals. But shame on me. In the mood for Italian but not wanting to stray to far we went to check it out. Nice place and the food smelled fantastic as soon as you walk in. The waitresses were really nice and never made you feel awkward. We decided on the mixed salad spaghetti and meatballs and the puttanesca pizza. The salad was delicious. romaine lettuce cherry tomatoes peppers onions olives oil  balsamic vinegar. Tangy fresh and very yummy. I must have it again. The spaghetti and meatballs were also very good. The meatballs tasted fresh and homemade. The pizza which I loveeee tomato sauce capers black olives anchovies oregano  fresh mozzarella. Delicious thin crust made in a brick oven which had a little salt and tang from the anchovies and olives and the cheese melted so it was nice and crisp They make pizza just the way I like. I maybe could have done without the anchovies since Im not a big fan but it was nice for trying something new. And I believe they were not black olives but Kalamata which I dont have no problem with I am 100 going back here Love it\\n', 'One of the best pizza and Philly cheesesteak I ever had I order delivery and it was quick I would be ordering from here from now on \\n', 'Big Fan love the pizza here Staff is super nice.\\n', 'We ate here this evening with 4 adults and 2 kids  10 year old and 14 year old. We had pizza and two salads. I ordered the Tuna Salad which was made with high quality Italian olive oil Tuna. All the ingredients were fresh and the salad was delicious. The kids are living in Massachusetts and love New York PIzza. and they were impressed as were the adults. Towards the end of the meal a manager or possible owner noticed the crust of the pizza in my husbands hand which was on a path to his mouth. Keep in mind that all the adults had slices and we had no complaints. The Lady offered to make us another pizza because she felt that this dark crust was too dark to meet their standards. We explained that we had no complaints and appreciated the offer but we were really to full to eat it. Then she said she would take it off the bill. The food was above average but the attention paid to customer satisfaction in this place is extraordinary.\\n', 'Very nice simple and cozy place They provide an amazing service. The Margarita pizza was soooo good juicy and crispy. Tip you get free soda refills which is really pleasant.  love it Thank you\\n', 'Great Pizza Big servings Our waitress was super nice Free soda refills Simple but excellent Will Definitely come back.\\n', 'Peppinos isnt on any of those best pie lists for NYC but Im not quite sure why. The pizza is great and significantly cheaper than their competitors. The staff are very helpful and social and you dont have the crazy wait like you do at Paulie Gees Robertas Motorino etc. We made a trip out to Park Slope to try this place and Im glad we did. I will absolutely be visiting again\\n', 'This place is amazing. The good rocks the service is stellar and Ill be coming back time and time again. If youre looking for a great Italian restaurant in Park slope this is the place to go to. Highly recommended\\n', 'My boyfriend and I take out from here. Its so delicious\\n', 'Absolutely LOVE Peppinos Walk in and youre greeted by an eclectic decor in honor of all things brooklyn Italian. What makes this place great 1. Delicious food You cant go wrong with ANYTHING I promise you. From the pizzas to the seafood to the calzones its all melt in your mouth deliciousness. 2. FANTASTIC customer service. Wow My family has been dining here for 5 years and we have never ever had a bad experience. Because its a family run business you cant help but feel part of the family. On the fence Just try it out. Its worth every penny\\n', 'Great food great service. I always have the margarita pizza. Cesar salad with perino beer. Its like heaven.  Price us up there but worth the ingredients they use. It is not a tourist trap pizzeria\\n', 'I am blessed to have Peppinos be my go to delivery pizza. To have a pie of such high caliber brought to my door is always a surprise.\\n', 'This place is fabulous. Its got a really classic homey vibe brick walls kids letters or drawings on the walls and they serve a bunch of dishes with a wide price range. My fiance and I shared the veggie pizza and a bowl of garlic bread basically pizza crusts with garlic and marinara sauce. The pizza was really good the wine was good the crusts slathered in oil and garlic were obviously good. There was definitely a substantial amount of noise coming from all the kids and families but it sortof just added to the laidback atmosphere of the place. The family sitting at the next table dropped their whole pie onto the floor and the waitress assured them they could have another on the house. Thats a clear sign they want returning customers. Our waitress was very nice and since the place wasnt packed we were checked on about every thirty seconds I think she was bored and wanted to chat. The only reason I took off one star is because Im a vegetarian and I wish they had another veggie pizza option with meatier veggies eggplant artichokes etc.\\n', 'Growing up on 10th Street in Park Slope Brooklyn we had several outstanding Pizzerias to choose from. So when taking my daughter and her fiance on a pizza quest I naturally had to stop in my old neighborhood and sample a slice from Anellios which wasnt there anymore. Instead Peppinos Brick Oven Pizzeria now occupies the location. I quickly looked up the comments on Yelp and saw that it was rated very high. Inside did not resemble anything from the old business. It does not resemble the familiar take style counter near the entrance but rather a sit down set up. The Brick oven is now in the back in plane sight. We were greeted by a hostess and opted to take the Pizza to go. We ordered the Margarita with Meatballs. We sat at a table while we waited the the young girl brought us to go cups of water. Very nice touch. Within a few minutes our Pizza was ready. Brick ovens do cook very quickly. The Pizza looked and tasted fantastic. Sauce was sweet and fresh the Mozzarella was fresh not the commercial shredded type the meatballs were sliced homemade. The crust was thin but not too thin. Not burned as most brick oven pizza can be. Texture of the crust was light not chewy with just the right amount of pull as you bite. Overall and excellent PIE. Good Service. My neighborhood still Rocks Great Pizza\\n', 'One of the best pizza places in Brooklyn. Also they have a fish salad and lentil soup that is incredible. The bread is always fresh and are always happy to get you more. Small casual place but the food is always great.\\n', 'My wife and I just ordered from here tonight looking for a good pizza place in Park Slope. Weve tried a few in and around the South Slope area  Smileys Pizza Plus Enzos etc...  and Peppinos is far and away the best. We were told delivery would be 45 minutes and our order arrived a shade under 25. A large coalfired pepperoni reminiscent of those you see at Julianas Robertas and Grimaldis and it was fantastic. Light chewy crust slightly spicy meat flavorful sauce. It looks like we have found our local.\\n', 'I had the best margarita pizza ever here. The fresh mozzarella is wonderful and their tomato sauce is amazing.\\n', 'two slices with fresh cooked sausages very good\\n', 'Fast delivery pretty good pizza half margherita half puttanesca I like more crunchy crust and this was not enough. I might try it again eating in the pizzeria because delivery is not for sure the best if you want crunchy staff... This time I was too hungry but next time I will make it crunchier warming it up on a non sticking flat pan.\\n', 'Really great pizza and very nice familyvibe staff. Have ordered take out a bunch of times. Once when my girlfriend had called the wrong location by mistake for our pick up order they apologized as though it was their mistake and sat me down with a complimentary glass of wine to wait for my order to be done. Thats how you do it\\n', 'Came here yesterday after I went to the gym. I was hungry and needed some good pizza so I turned to yelp. This place showed good reviews and the outside looked nice and clean so I gave it a shot. I ordered a small regular pie and it was so good I ate it all myself. Although I was very full it was worth every drop. It has a crispy crust the sauce is just right and the cheese isnt cheap. If your passing by stop in cause its worth it. Great cozy ambiance inside a little nicer then a typical pizza joint.\\n', 'So a friend is over my somewhat secluded spot in Gowanus and rather than peruse 4th5th ave for a place to eat they ask me Whats good around here thats when I dont even think like a math equation I just say You should get Peppinos. And usually they get Peppinos. It was the first meal I had when I moved to Gowanus and I wont have to look anywhere else for pizza. As long as I am ordering a pie it will be from PeppinosI say pie because Im not sure if they have slices. It is so authentic like the pies Ive had in Italy. Fresh mozzarella crispy crust thats chewy but also has a slight char. The sauce uses good tomatoes and has texture it is also well seasoned. Ive dined in and ordered out  consistency is the same. Check this place out for italian fare if you are in the area and you definitely will not be disappointed. They have great customer service too Im pretty sure it is family owned and operated and from the waitress to the manager they all treat patrons like they are invested in the restaurant and its success.\\n', 'My foodie troupe and I usually choose trendy Manhattan spots but when I suggested coming to my apartment in Brooklyn the horror we wanted to keep dinner easy and nearby. We meandered down 5th Avenue to Peppinos  recommended to me in passing by a local friend. The space reminds me a lot of a restaurant that Id find in my farmerville hometown in PA. No bells and whistles. Plastic tablecloths. High school wait staff. FANTASTIC pizza. Cheap bill. Perfect\\n', 'I was expecting better pizza after reading the reviews. Kinda over priced too.\\n', 'Came in on a Sunday afternoon. Wasnt too busy. There was a great throwback vibe to the place. Checkered tablecloths bottles of soda a bright red neon sign in the back. It just felt like old America. As I sit down I am promptly greeted by my waitress who runs me through the menu like a pro and recommends the vodka pie. She was very friendly and eager to please. She brought me delicious free bread and joked with me throughout my meal. I received my pizza prompt and hot. It was fantastic. The ingredients played off each other in perfect harmony. Prosciutto mushrooms cheese basil. With each bite I wanted more. It was the best NYC pizza experience Ive ever had.\\n', 'This place might not have the scene that Lucalis and Giuseppinas have it definitely doesnt have the exposure and hype of places like Di Fara LBs and Lombardis but if you peel all of that way away this place can hold its own with any pizza restaurant in New York. In a blind taste test with the top 10 NYC pizza places it would at the very least be a contender. Their pastas and sides are also very good but food aside I love the feeling you get from Peppinos when you walk in. The place is truly a familyrun business that focuses on one thing giving diners a great experience.\\n', 'The pizza sauce tastes worse than from a can watery like consistency. Toppings thrown on too much ricotta on white pizza. Garlic crisps were soggy flavorless leftover pieces of crust.\\n', 'Ive been here twice. I got the spinach ravioli both times and it was really good. I do have a complaint though. I went there yesterday at around 10pm and this place was filthy The floors were disgusting and we had to wipe crumbs out of our seats.\\n', 'This place is amazing My boyfriend lives right by it and we came across this gem last year in the winter and it was so warm cozy and smelled DELICIOUS. We ended up deciding to split a chicken roll OMG so great and it was huge It was enough to satisfy us both The people that run the place are also as nice as can be countless times they have given us garlic crisps on the house. Only downfall closed mondays. I almost cried when i forgot that and we were outside their door.\\n', 'My wife and I moved across the street from Park Slope Peppinos about a year ago. Weve been regulars ever since. I kept saying I was going to give a good shout out on yelp but never got around to it. Tonight I just had to do it. My wife and I brought our 5 month old in here tonight and once again they treated us like family. After long hard days it just feels great. Ive lived in NYC for over 20 years and never felt such a family vibe as I do here. But we wouldnt come here regularly for that  its also the case that the food is great. It just is. My mom is 100 Italian and I grew up eating the best. This is in the same league. We are so happy to have moved across the street from this gem.\\n', 'So far Ive ordered a regular pie margarita pie chicken Cesar salad  chicken roll all were very good. I see that this place has good rating for there plates Im yet to try it but will soon. They lost a star because one day I called to order I believe a salad and a drink they wouldnt deliver it because I was off by I believe two dollars I really hate when places do this like seriously...two dollars and you wont deliver it a couple of blocks I really dont think the delivery person is going to mind considering he will get a tip and why would a business want to lose out on 8 just because it wasnt 10. Id rather have 8 more dollars than none but hey thats me. So I guess when I order just for myself I have to get something extra that I really dont want just to have it delivered.\\n', 'My family love this place. I rarely write reviews . . . Every time I come either for a pizza or for say eggplant parm . or seafood platter etc I am not disappointed. we also are treated so well like family. if you see the seafood platter as a special other it it is amazing.\\n', 'Brooklyn is known to have some of the best pies known to the Americas and after sampling so many pizza joints in Brooklyn probably the best I have ever tasted is right around the corner of our house After living here for over a year Didnt even know we were missing out on one of the best pizzas my tastebuds have ever known. Im sorry tastebuds but now you can now be oh si satisfied . The bread Is it the water The moisture  them pasture in the oven  Chewy thin  crisp and the sauce is too die for. Kids were over the moon with their pasta which u tried and almost switched to eating theirs. No line no over hyped advertising  just a great family Italian restaurant who likes kids.\\n', 'Happend to be in the area and was looking for someplace to eat. We stopped in here after reading the reviews on yelp. I originally passed it and looked in thinking Man it looks hot in there because the whole front was open. Not realizing that was the place I was looking for but I took a chance. We had lasanga w a mixed vegetables on the side spinach ravioli tomato and mozzarella. The bread to start was slightly different.  Tasted homemade similar to pizza dough. Either way it was delisious. The tomato and mozzarella was fresh and tasty. Our dinners were both very good. Oh and the mixed vegetables were real mixed veggies they put together not from a bag. Was very happy I stopped in and I will be back. Also it was not hot in the restaurant at all.\\n', 'Its a miracle I have found my Italian food sanctuary After a couple drinks at the local bar we walked up to 5th ave and were torn between the diner and this place that I caught in the corner of my little brown eye. We flipped a coin literally and lucky for us the choice was Peppinos. As we were walking in a big group was leaving. Since it was close to 11pm I was afraid they were getting ready to close but the owner of the place assured us it was alright making us feel right at home. Though they were cleaning up not ONCE did they try and rush us. The waitress was super sweet and friendly and the food came out quickly. We didnt get to try the bread since they were out but they did give us some free pieces of bruschette. This was heaven in my mouth The bread was so warm and moist garlicky goodness underneath a bed of delicious red onions and tomatoes. SOOOO GOOD I also love Pasta Fagioli so I got a bowl. This wasnt as great...kind of bland. Think it needed a garlic clove and some salt but good nonetheless. Next came out my Penne Alla Vodka and my friends Penne Alla Boscaiola. It was delicious They give you a ton of food and the flavor was on point. The peas really added to the whole dish. My friends food was equally appetizing. I will say the prices are a wee bit higher than the average Italian spot but this place totally makes it worth it. After gobbling up what we could from our huge pasta plates the owner chit chatted with us as they got ready to close and gave us some menus so we can order next time we were at work. Its been a while since Ive had such a friendly staff serve me. Great food great people. Cant wait to come back and try some brick oven pizza\\n', 'Peppinos make really really good pies it has to be said although Ive never been to their Bay Ridge location. A little pricey sure but they have Park Slope real estate prices to be dealing with and the ingredients are high quality. Top notch sauce and good cheese theyre only a few yards behind the tall trees like Totonnos and Julianas in the crust stakes but its high praise even putting them in the same sentence.  In any other town this place would hold legendary status  too bad theyre in the pizza mecca of Brooklyn.\\n', 'Best pizza in south park slope. I dont know if its because clearly all the Italians go here or that it is also Italian run but ya it is pretty damn good. I get the baby size ie personal pizza margherita.\\n', 'Delicious pizza. Reminds me of Grimaldis minus the wait time. Chewy crust savory cheese flavorful sauce. The Margherita pizza here is fantastic. The restaurant is cute and service here is good. A nice little pizza joint in Park Slope.\\n', 'The food here is absolutely delicious. And its just a calm environment where its always pleasant to sit down and eat even when its crowded. Friendly staff. Prices arent too bad.\\n', 'I live nearby and I discovered this place a few months ago as I had an urge to have some pizza so I walked in. I was shocked at how good the pizza was in such an unassuming place The pizza looks like its made from fresh ingredients and it tastes like so. The more and more I eat this pizza the more Im liking it so far it hasnt disappointed. The service is not that good at least a couple of times I went with some friends seems like they have to work on training their employees. But as long as they keep producing such great pizza Ill ignore the soso service.\\n', 'Really good pizza here. The diavola is awesome the sausage is really fresh and has a bit of spice that makes it very enjoyable. Beers a little pricey at 4.50 for a Brooklyn pint but its not a bar so I can let it pass. Id like to go back and give their cheesesteaks a world. I thought the prices were pretty reasonable too.\\n', 'If for the rest of my life I could either only go to this place or to Frannys I would choose Peppinos in a heartbeat. Its not fancy it doesnt serve ramps and youre more likely to see an offduty cop eating there than a Gyllenhaal  but its delicious mellow and affordable. Every waiter Ive had has been friendly and attentive. The pizza arrives quickly and with a nice slight char on its crust. Whenever I eat here I leave full and in a good mood which is more than I can say about a whole bunch of restaurants that regularly appear on the lists of the Best this or that. Go But dont make it so crowded that I have to wait for a table.\\n', 'We frequently order here for staff meetings. They sandwiches are the winner...chicken parm eggplant parm grilled chicken w balsamic  cheesesteak make everyone happy. To feed 40 people under 250 and still have food left over is great in my book.\\n', 'Service was great and my favorite thing on the menu  CHEESE STEAK SPECIAL Its one of the tastiest I always order delivery and theyre always quick and food still taste great.\\n', 'We were scheduled to play a Make Music New York festival performance at Peppinos South Slope today and the manager was such a complete jerk. We were scheduled by the Park Slope 5th Ave BID to play there and it was made clear there would be electricity available but the manager made it clear that he didnt know anything about it in spite of the MMNY poster taped to the inside of his front window and that he was too busy to direct me to an outlet to run power out to the street. He spent more time making calls about the situation and telling me that he was busy than would have been required to plug in a power cord. Amazingly he walked away from free music and world class musicians that would surely have drawn a crowd and gotten the business more money. Please dont go here for food as there are may pizza places in South Slope and many of them have reasonably polite managers who make good business decisions.\\n', 'Tasty pizza decent size meals.. they are generous on their subs too. The salad is average wasnt so fond of it but they have speedy service. If you want your food and you want it fast check them out.. you wont be disappointed.\\n', 'Went to Peppinos tonight and it was very good....The atmosphere is welcoming and the service was great We had the mozzarella and tomato to start off so fresh then the pizza half vodka and half Margherita the crust was so crisp and chewy at the same time..and then finished with pasta sauce was very homemade and delish. The staff was polite and always checking in on us to see if we needed anything. Definitely a place to have a nice casual dinner...I will definitely be back. Thanks Peppino for giving me a new spot to hangout with friends and also a place to bring my out of town guest YUM\\n', 'SO GOOD. The pizza was delicious we had spicy sausage and olives and the service was prompt polite and friendly. Ive lived in the neighorhood for three years and I cant believe its taken me this long to discover Peppinos. The decor and ambience is a bit lacking but we will definitely be returning.\\n', 'Great brick oven pizza in Park Slope with friendly staff. The restaurant itself doesnt really stand out looks like your typical neighborhood pizza joint but the brick oven pies are definitely better than any other Ive had in the vicinity. If they had their 2 slices for 5 special late at night Id be here all the time\\n', 'I have to admit I wasnt sure what to expect when walking in and didnt expect the pizza here to be as good as it was. We started with the bruschetta which was delicious. The bread was toasted perfectly crispy on the outside and soft on the inside. Though I dont remember details the pizza was delicious. We ordered a large Margherita and each component had a distinct and robust flavor. Not too sure how to feel about the ambiance. It was OK but the opera music was a bit too dramatic for the restaurant and the superimposed family pictures on the wall were too personal and intimate for my taste. The service was good. I usually like to write longer reviews with more details but its been a little while since I visited Peippinos. Since everything was enjoyable theres a good chance I will return and update my review but the pizza earns a solid four stars.\\n', 'This is the best Italian restaurant ever. The pizza is excellent. I have also had the eggplant parm and pasta dishes which were all very good. The service is excellent too. I will definitely keep coming back.\\n', 'My husband and I have been twice so far and both times we were very happy with the service and food. The first time my husband got a pizza and I got the mixed salad with chicken. The salad was really good for a pretty simple salad but if youer a salad eater you know how easy it is for places to mess it up. Our second visit we ordered a meatball sub and salad to share and both were really good and they even split them for us which I thought was really nice. We will def. be back\\n', 'I am not sure what took us so long to find this place but we finally decided to try Peppinos after living in the neighborhood for almost two years. I could kick myself now that I know what we have been missing. They have perfected the pizza here. There is no comparison with other pizza by the slice joints in the area. The wood burning brick oven makes all the difference. The pizza was fantastic but more than that the service was above and beyond. Our server Vito was such a sweet guy I never realized since we headed home after our meal but I left my wallet at Peppinos. It was hand delivered to our door by an employee at Peppinos. Everything was in its place. Thank you so much Peppinos. You have two more loyal customers\\n', 'We were a huge group of 16 yesterday for lunch and they sat us right down. We ordered a billion pizzas and tons of salads and they didnt blink. Peppinos is really great The food we ate was delicious the service was top notch and the price didnt break the bank. This was an absolutely glorious NYC Pizza experience. Id recommend that anyone and everyone check this place out.\\n', 'I came here on a Sunday night there was quite a few people. It had a nice atmosphere. Ive ordered pick up from here before but never ate in but this Sunday was different We got a bottle of wine La Bastardo which was delicious And I hardly ever really like red wines We got olive and spinach on a margherita pizza and garlic bread to start. I enjoyed their garlic bread there was plenty. The pizza itself had a good crunch to the crust and it had noticeably fresh ingredients. Service was welcoming and friendly plus the restaurant had a homey feel.\\n', 'great brick oven pizza. very friendly and helpful staff. In my opinion the best pizza in brooklyn.\\n', 'Im a lifelong Brooklyn resident who loves pizza. And I loved the pizza here. This place has great brick oven pies. Cheese is real and fresh with just the right amount of saltiness. The sauce was absolutely delicious. The crust has just the right amount of burn to it. Loved it. Will def go back prices were good. Portion size was good for two to split on one six slice pie. Good service. And a nice clean atmosphere.\\n', 'This place has a great neighborhood pizza place vibe that I loved. Red checkered tablecloths parmesean and dried chili pepper shakers on the tables friendly waitresses and staff decent beer and wine list and some nice menu items mellow and kidfriendly atmosphere. But the best part about it  the pizza is WAY BETTER than your average neighborhood pizza place. The brick oven pies come out steaming hot with just the right amount of char to give it great flavor. Tangy sauce and real mozzarella cheese. The crust is light and relatively thin with just the right amount of stretch and chewiness to it but definitely not too chewy. I eat a lot of pizza. I love pizza. And this place really got me. Not to mention they were extraaccommodating when we wanted to split our pie 58ths 38ths vs. half and half. That was great. Love love love. Will be back.\\n', 'I looove pizza and this is IT. Second best to Grimaldis which is my favorite At Peppinos ive tried the Vodka Pie with Whole Wheat crust which was fantastic and the steak hoagie that was soo juicy it melts in your mouth. Check this place out its a winner.\\n', 'Great italian joint. Great food and reasonable prices. Their brick oven pizza is AMAZING. If you havent experienced Peppinos yet you must.\\n', 'Unfortunately Im writing this review very late. I was here almost a year ago. Anyways Im going to keep this simple. Brick oven pizza is always the way to go when u can. The pizza here is really good and I do plan on going back again. The prices do not reflect your average pizza spot but this is not your average pizza spot. If you find yourself in the area you should definitely atop in and try their pizza. Its really good\\n', 'Professional service delicious food and consistency what more can you ask for in catering and for dinner. Weve had them cater several family gatherings and they went far beyond what was expected following up and coming back to make things absolutely perfect. Cant say enough about these guys.\\n', 'I enjoy going there never let me down. Always fresh\\n', 'Peppinos is delicious. The garlic crisps are a MUST. Im a big Penne Vodka pizza fan so I would recommend that but all their pizzas are pretty delicious. Their deliver times are a bit slow though so they lost a star from me. However if you get a chance to walk in and try some food you definitely should. The waiters are quite nice.\\n', 'I scoped this place out when looking for some conveniently located pizza in Brooklyn. I like brick oven pizza more than standard New York pizza so this looked like a pretty promising restaurant. The staff is friendly here it really seems like a neighborhood joint. They seemed to know their customers by name based on what I gathered from the few others people there that time of day. I was delighted to see that they served Boylans bottled sodas. This is one of my favorite soft drink bottlers and their ginger ale in particular goes great with this type of food. I went with a half margherita and half alla vodka pizza individual sized. This was a pretty good brick oven pizza but not the very best I have had. The alla vodka was much better than the margherita. If I could try again I would go with the Pizza Bianca or Puttanesca instead. Both halves could have used a little more goodies the prosciutto seemed a bit sparse. Overall this is a very good neighborhood pizza place but not the best brick oven pizza you can find. Its not a destination but probably a place I would frequent often if I lived nearby.\\n', 'I am obsesseddd with their cheesesteak. Thanks to Elizabeth R.s review I gave it a try and now always order it for lunch.. eat half and take the other half home for later. The delivery is always fast and they usually get my order right and put whatever else it is I request in the bag forks parm napkins etc. Wouldnt hesitate ordering.. do itt\\n', 'Peppinos is pretty nondescript both inside and out. The true treasure is in its brick oven pizzas. I have only had the standard margherita pie but the crust is thin crispy flavorful and the cheese and sauce are outstanding. It is close in distance to us and also in quality to some of the better pizza places in Park Slope and the prices are definitely great for the quality. If you are by yourself or in a small group they do offer personal and medium pies. They also offer a special lunch deal of 2 slices and a soda for 5  but I think that pizza is the standard cheese pie found at any parlor.\\n', 'This place is in my grandmas neighborhood. Were from NJ so we dont come often but this is definitely my husbands favorite Italian restaurant. Everything weve had from here has been delicious\\n', 'tip great brick oven pizza place with garlic crisps Diavola and Margherita were very crispy tomato sauce very fresh. i imagine they would only be good when their just out of the brick oven else the crust would be soggy real fast. garlic crisps are awesome very garlicky.\\n', 'Excellent service and the food is so amazingly delicious. This restaurant has a moms and pops type feeling. You feel cozy and can enjoy your meal without being squished into small tables.\\n', 'cheesesteak cheesesteak cheesesteak cheesesteak  youll thank me later. eat here now\\n', 'One of the better Pizza places in the slope. They do sell cheese slices at lunch but is more of a sit downdeliver whole pie place. Its also less fancy than some of the more highend pizza joints with checkerboard tablecloths.  Pies are made to order in a woodfired oven which is key. Hot tasty brimming with ingredients.  If you want good pizza in a casual place Peppinos will bubble your cheese.\\n', 'As far as Pizza goes NY has a crazy amount of spots to try. But the best pizza I have come across is from Peppinos It cheesy goodness will make anyones day better and I am not usually a pepperoni slice of pizza person but here I am all about it Every Saturday for lunch I come here to get two slices of pizza and a soda for 5 closer to 6 if you get pepperoni. Many pizza places have that deal but this pizza is REAL pizza and I was so suprised that this place would have that special. If youre in the neighborhood please make sure you get a slice of something amazing\\n', 'Possibly maybe on a good day the best pizza in South Brooklyn. The problem here is consistency. Some days this pizza is absolutely perfect and some days its soggy and a little gross. This is actually a 5050 issue here. But the days when its good its goooood.\\n', 'Peppinos in Park Slope is a friendly restaurant that makes very good brick oven pizza. The crust is exceptional if you like thin crusted pizza. The other ingredients were also quite good though we thought the sauce was a little too light and watery. All the serve staff made us feel welcome. It is a nice place for a midweek dinner.\\n', 'While we have never eaten in the restaurant my fianc and I have faithfully ordered delivery from Peppinos for about a year now. Their sandwiches are amazing Finally someone who knows how to make an eggplant hero They are consistently friendly fast and the food always arrives piping hot. Every time we try a new dish on the menu we are impressed\\n', 'Solid brick oven pie.\\n', 'I love it so much.I was very sad when we had to move from south slope to sunset park as I would not get to go there as often as I want or just walk past it every day. But they delivered the food to our area too.\\n', 'Food is okay if you pick the correct one  Service was okay.Bit pricey\\n', 'On first moving to Brooklyn from down South I figured I was trading barbeque for pizza and set about trying to find a suitable pie that I could have delivered or was at a minimum easy to obtain. After a lot of trial and error really just a lot of error I finally stumbled upon Peppinos and havent looked back since. This is my go to spot for a traditional NY style pizza these days. Sure there are pizza joints that are arguably better but unless the pie is made of solid platinum Im not standing in line for an hour or more to get it. At the end of the day its just pizza. Id much prefer a pizza thats nearly as good and Peppinos is nearly as good that comes right to my door. Peppinos pies start with a subtle and slightly sweet tomato base then layered with fresh mozzarella and adorned with your choice of toppings. The pies are cooked in a coal fired oven so you get that spectacular blackening of the crust on the bottom. It really is a top notch pizza. Is this my favorite pie No that honor goes to the Tartufata at Tobys. But this is by far the best delivery pie Ive had in NYC. Well worth giving Peppinos a shot on one of those nights where you just have no desire to cook anything and are craving a great slice.\\n', 'We order pizza here at least once a month and every time it is great. We love the margarita pepperoni pizza  the pepperoni is tasty and the mozzarella is delicious Plus you get pretty fast delivery. Have to love that\\n', 'Wanted to love it. Looked great coming out. Fell short though. Too much oilgrease. Good amount of cheese and sauce and even the crust had a good texture not too soft not too crispy or charred but just no flavor. 2 stars since I sure have experienced better slices. But 5 stars for friendly service and a 5.00 2 slicesoda Recession deal Nice owners Id say.\\n', 'On one of our shopping trips in Park Slope we wander in the neighborhood looking for a quick place to stop for lunch. We noticed Peppinos in the area. Their chicken caesar salad was delicious Hearty and filling heaps of romaine lettuce crouton and chunky pieces of grill chicken in casear dressing. We also shared a baby margherita pizza piping hot thin crust with fresh mozzarella tomato sauce basil and olive oil. Normally we would had indulge ourselves if it werent for our sweet tooth crave here and there. Luckily we saved room for dessert since my husband spot another place nearby. Ill def be back to try their pasta and bread. Loved the friendly service as well\\n', 'Not sure how Ive gone so long without rating this place. I eat here at least once every other week and I go here any time we have family or other out of town guests. The margarita pizza is one of the best Ive ever had. I usually add pepperoni. As good as it is to get delivered sinking my teeth into a piping hot pizza in the restaurant is fantastic.  Seating in the actual restaurant is surprisingly easy and surprisingly child friendly. We dont have kids but its nice to know of a place that is easy to navigate for friends.\\n', 'Its Brick oven. Its good. Its Pricey. Take advantage of the fresh cannoli when they appear on the menu.\\n', 'Decent pizza albeit slightly soggy and limp maybe from delivery time. Wifes Raviolis were excellent and the sauce on them were phenomenal  may try a pasta dish next time as the red sauce was delicious.\\n', 'This place is absolutely wonderful. The wait staff is extremely courteous and attentive and the brick oven pizza is incomparable to others in Brooklyn or other boroughs. They also have pasta and sandwiches that are worth trying. The restaurant has a very homeey and relaxed atmosphere that makes you want to go back and bring your friends and family.\\n', 'I just moved to Park Slope and wanted to grab a quick bite to eat. Little did I know I was about have one of the best pizza and prosciutto sandwich ever. Love the doo wop  Frankie Valli mix playing over the speakers as well. Cant wait to go back and try some of the pastas.\\n', 'Local pizza place worth going out of your way for. The Pizza a la Vodka is crazy good. Johns on Bleeker is probably my favorite pizza place in NY but this is a close second way better than Grimaldis. It can be a little pricey but youll be satisfied. The pasta and heros are good as well. The garlic crisps and bread are yummy and plentiful and the salads are a good size and their vinegar is delicious. Other apps have been good as well. Delivery is reliable and accurate with the time estimation they give you. They are also super nice.\\n', 'My first time at Peppinos and thanks to fellow Yelpers we decided to stop for pizza at this restaurant before getting on the Verrazano bridge and returning to Virginia. I grew up on Long Island so I know good pizza and I couldnt let our group leave without tasting some authentic NY pizza. The place is tiny but efficient the service was friendly and fast. The food is outstanding They cook in a brick oven and everything has the most amazing crust with a char. Our drinks arrived quickly fresh bread was brought to the table. The bread was simple but amazing. We decided to split a Margherita pizza a plain calzone and a meatball parmigiana roll. The pizza was absolutely delicous the calzone was THE BEST Ive ever tasted. The meatball parmigiana roll was very good but the previous two items were outstanding.  The manager insisted upon making us a second pizza because there was a hole we didnt see it in the first pizza since the center was too thin. We said it wasnt necessary but he insisted so we had another pizza to take with us and we left a great tip for our server. Im nosy so I had to ask the table next to us what theyd ordered their pizza had prosciutto and mushrooms and they were raving about it. Definitely worth the money great food great service good prices. Business is booming too there were tons of carry out and delivery orders leaving.  I cant wait for my next trip to New York a meal at Peppinos will definitely be on our itinerary\\n', 'I cant help myself any longer. I have to upgrade to 5 stars. This place is just outstanding regardless of the high tariff. The pizza and pasta dishes are ridiculously good as are the few apps Ive tried as well as their homemade bread. To top it all the staff are always so friendly helpful and pleasant. Top notch.\\n', 'GREAT margherita pizza i really enjoyed it. the personal 10 with a salad was good for two meals. 17 so a little pricey for pizza but i have no regrets. the tomato sauce was perfect and the mozz cheese fresh. the brick oven added the perfect authentic touch. ill definitely be back for more of this\\n', 'We tried Peppinos for the first time and placed an order for delivery. I will give them 5 stars for customer service but only 2.5 stars for food. The guy who took my order was very sweet when he heard i was ordering for the 1st time he gave us a complimentary appetizer and also upgraded our baby size pizza to a medium pizza for free. Delivery was quick. So they did great on the service side. Now on the food side the bruschette was tasty. The mozzarella and tomato was ok. The mozzarella was not very fresh. The marinara pizza was very bland. The sauce lacked flavors. Overall the pizza was quite tasteless. The veggie pie pizza was better. It was loaded with a lot of chunky vegetables. But once again overall the pizza was lacking flavors. It was missing the taste of fresh herbs. Their service was definitely excellent but food was not\\n', 'Ive been holding off trying Peppinos because I thought they looked pricey. 15 for a small pizza I took the plunge and decided to order a baby size pizza. I thought to myself I cant order a baby size pizza im a man A MAN But then I figured how small can the pizza actually be So I ordered the Quatro Stagioni pizza for pickup. It was a BEAUTIFUL pizza. Probably about 10 inches wide with 4 slices. All of the ingredients high quality and the crust with the right amount of char. I never used to understand why having a little bit of a blackened edge is a good thing. If your pizza has tons of tasty toppings the blackened part helps to clean your palate a little bit between slices. Otherwise the flavorsand oils build up in your mouth until it just doesnt feel right anymore. I cant wait to go back to this place and try all of their other stuffsome good looking pastas and sandwiches. I should also mention that their staff was extremely friendly even on crowded busy night. That tells me that this place is quality.\\n', 'Nice pizza restaurant. Marguerita pizza is great but expensive\\n', 'Man what a great night at Peppinos. So we were a party of 3 and we took the large table in the window for the street view and the leg room. Great service he talks us into making a good beer choice a small run Italian hefeweizen with a nice looking bottle. A large party comes in and they ask us if they can get the big table. We oblige being polite dapper gentleman on the eve of our show at Freddys Bar down the way. The restaurant gives us a Bruschetta and another beer on the house we had one initially split 3 ways. Great Bruschetta. And the pizza Molto bene. Brick crust and everything melt in your mouth. The table that bumped us Tossed another 2 more of those beers. Great things do happen to beautiful people. Great and attractive staff prompt service and the food had it goin on. I would come back with bells on.\\n', 'Definitely the best delivery pizza in Park Slope. Compared to other local pizza that has rubbery crusts or weird tasting sauces this pizza was really good. It will definitely be our goto place for pizza delivery.\\n', 'Im so glad theyre just a few blocks away. I dont really like pizza but when that pizza has mushrooms and vodka sauce on it with fresh ingredients I get easily addicted. And so does my roommate. Plus they have a two slice drink recession special that beats most other meals in this area. Yesss\\n', 'Great Italian takeout\\n', 'This place does it right. The pizza is what we go for. Brick oven tasty sauce quality toppings chewycrispylight crust reasonable price AND consistency aka never burnt  You get it all here. We are often here after 9 pm with the family for a late night pizza with friends. Kids are totally OK. The service is amazing. It must be family run. You dont get that kind of calm confidence and mastery of the menu from just anyone Everyone is laid back but cares about what come out of the kitchen. Message to Peppinos PLEASE DONT LEAVE THE NEIGHBORHOOD The entire family loves this place. When you say hey lets grab a pizza and the kids chime back Peppinos its all good ...\\n', 'Ive only ever had deliveries so cant comment on the restaurant experience. Love the Pizza Alla Vodka. Perfect base and a great mix of toppings. Also the Orrechiettie pasta is awesome as long as you like a lot of oil and garlic the latter of which I actually dont I realize this makes me a freak but I eat it anyway its just that good. Fusilli Fridiavola is well worth it too. Delivery is a little slow at peak times but thats not really an issue. Two things bother me for which they lost a couple of stars itd be 1.5 stars if this was an option. Firstly we ordered a Diavola pizza and it was not good. Not bad just not good. Too much tomato not enough cheese and sausage. It might have been an off day. Secondly and more importantly it is expensive. I just dont think a pizza should ever cost 25 once you add the tax. The pizza is big but not THAT big. It is yum though. I kinda want to order it now.\\n', 'This place is awesome  Great prices large portion brick oven pizza is amazing  Service is wonderful this place is my favorite spot. great deal for 2 slices of pizza and a drink for 5 bucks \\n', 'In search of the best pizza in NY I happened upon this place. Although it didnt turn out to be the holy grail of pizza it was quite good none the less thoroughly enjoyed it. Ordered half pepperoni and half alla vodka soo good. Felt like an authentic brooklyn pizza shop too great atmosphere.\\n', 'The pizza was fine a little pricey. I dont know why people have gushed on here about the pizza it was ok not bad not great or anything. I will stick with Pinos.\\n', 'Ordered the Antipasto Bruschette and a small Margharita pie with sausage. Bruschette  Fantastic though I do usually prefer slightly more crunchy bread it was still great with excellent ingredients on top. Antipasto  Also very good. Very fresh mozzarella and tomato delicious roasted pepper sundried tomato olives and some fantastic baked flatbread. My only critique is the artichoke hearts need to be better seasoned or use a different brand perhaps. Pizza  Consistent with the rest of the meal  excellent but not the best Ive ever had that would be in Italy though so a hard comparison. The sauce and cheese are fresh and I like the thin crust which is not too crunchy but not soggy. I wasnt amazed with the sausage though I dont usually order that  my wife wanted it though neither of us liked it all that much. Still a great pizza.\\n', 'Came up here to Brooklyn which is really home but now living in DC...so the 1st order of business as we drive into NY is head over to Brooklyn to get some pies Peppinos was the closest stop to where we were so be it. We hit the jack pot as Peppinos delivered in every way to satisfying my need for awesome NY Pizzas I took my first bite of the Garlic crisps WOW I realized what I have been missing down in DC. The crisps are fantastic but save room for the real meal. We ordered a Margherita and a Diavola. My kids my wife...we loved every bite. The ingredients were fresh the crust was perfect the brick oven smell taste...fantastic. The service was great here too nice smiles and attentive. I cannot wait to come back to Peppinos when I am back in town...this place is a must try in the arsenal of NY Pizza places....\\n', 'Stopped at Peppinos for pizza this evening. Times like this I wish Yelp would institute a 12 star scale because I would really like to give Peppinos a 3.5 star. However since I cant get the hint Yelp I feel Peppinos is closer to a 3 star than a 4 star. For starters the pizza here is very good  just not the best Ive had in town. I had a 4 topping pizza with mushrooms olives sausage and pepperoni. Price wise I thought Peppinos was a little on the high side the pizza was 25.00. Also the portions are not overly large. Now that Ive been critical heres some of the finer points... B wait at all always a plus. Also the menu does have lots of choices including sandwiches salads and pasta.\\n', 'So so so good. The pizza was very well done  cheese toppings and the like were all exquisite Crust just the right thickness I like it when pizza crust is a little thinner. Fresh mozzarella cheese. Pepperoni to die for. Too bad I was just here staying with a friend  I would most definitely order from them in the future. A must in Park Slope seriously. I know good pizza when I see it.\\n', 'holly pie Batman sorry...the Super Hero Supply shop is only blocks away These guys cut no corners on the quality of their ingredients. Toss in brick oven goodness and youve got one heck of a pizza. Each slice was structured and layered with beauty and solid in the taste dept quatro staggioni. I strongly recommend this place.\\n', 'Pizza quatro staggioni  solid. Good ingredients veggies were fresh sauce was seasoned but didnt overpower the tomatoes in the base Delivery  substandard. Called and was quoted a half hour delivery time took just under an hour. Both the driver and the person who answered the phone when I called back were indifferent. Advice to Peppinos  Dont overpromise and you wont disappoint.\\n', 'So the hubs and I ended up here after walking across the Brooklyn Bridge and seeing the ridiculous line at Grimaldis. A quick train ride out to Park Slope brought us to Peppinos and thank God it did.  This place is fantastic. Definitely the best pizza Ive ever had. We did a half vodka half ham artichoke and olive pizza. So ridiculously good. The crust was amazing. We also had some lobster bisque which was pretty good also. The service was great. If youre already trekking out to Brooklyn for pizza skip the crazy wait at Grimaldis and head to Peppinos instead.\\n', 'I really like Peppinos  though I do wish they had a more enticing reason for me to stop by more frequently. I live very very close so I would like to take advantage of their great pizza more often but unfortunately their really good pizzas are not sold by the slice. With Joes pizza being right up the block I often opt for Joes just for the sake of variety. Admittedly Peppinos has much higher quality in their regular menu but so many of us in the neighborhood are just picking up dinner for ourselves and I think that Peppinos is designed to sit down with a family. Personally I would like to see at least one of their specialty pizzas available by the slice daily.\\n', 'the exterior of peppinos might trick you into thinking its just another dingy pizza joint in Brooklyn. dont be fooled. inside you will find friendly and attentive wait staff crispy brickoven crust spicy pepperoni fresh bufala mozzarella and the best homemade pasta fagioli ive ever tasted. go to peppinos now\\n', 'Amazing brick oven pizza delivered to your door. Take that grimaldis\\n', 'My husband and I love Peppinos. Up until recently we lived just a few blocks away and it was our goto place for really excellent brick oven pizza. We were fortunate to live with several excellent pizza options in the hood Anthonys on 7th is good and Tobys Public House has some mean pizza too and a dessert calzone to die for. Peppinos ended up winning out against other places though because they have a great selection and their pies dont get crazy expensive. If you love the crunchy chewy thin crust pizzas with fresh homemade sauce not sweet fresh mozzarela and excellent quality toppings this is a goto place. Have ordered extensively from their menu and its all good. On top of all the great food Carmela and the staff are always welcoming and friendly. Never seen anyone here have an off day. There are really amazing pizza places with a lot of hype and waits. Those places are still great to go to every so often but this was our everyday place. We always felt pretty lucky to live just a few blocks away. Now we live in Austin and will NEVER get this quality of pizza without a crosscountry trek back to the neighborhood. Ill miss them.\\n', 'Okay so order whole pies from this place and they are great Single slices not as much so but the whole pies especially the  Quattro Stagioni  tomato sauce artichokes black olives ham mushrooms  fresh mozzarella kick ass. Solid pizza if youre in the area but I wouldnt travel too far for it...\\n', 'My go to place in the neighborhood. Decently priced really really good pizza and cheap beer. Comfortable place to sit with friends. Just ordered it last night for dinner. The Margherita and Pizza Biaca are the best.\\n', 'The best pizza folks i was born in Brooklyn and these people know how to make a pie Plus its unpretentious and you leave stuffed The yuppies dont know pizza this is the best\\n', 'This has been the best pizza I have had in the area by far. Fresh basil and mozzarella alone are fantastic and any topping you add will make it better\\n', 'In the abundance of water the yuppies are thirsty. They pop into Campo de Fiori and chomp down on extremelyoverpriced crappy gimmick pies while the real old Brooklyn gems are right under their noses. Peppinos has a good brick oven that burns hot enough to make a thin crust thats neither droopy nor brittle. It has good NYC tap water and skilled Brooklyn hands working the dough. The ambiance is bleh. The servers are generally 17 year olds from the local Catholic Girls Schools cute but confused. Its not too expensive and its far less full of itself than Grimaldis good God try getting in there on a fuckin tuesday forget weekends Lombardis Pompous ass clientele  overrated pies or even the real Brooklyn Rivals DiFara  Totonnos. Both of which are still kicking but I mean Dom aint gettin any younger a slice is now 6 I shat myself when I saw that and his place is over run with annoying yuppies congratulating themselves for taking the Q train past Grand Army Plaza for the first time...\\n', 'Great  reasonably priced salad..... The delivery was a bit slow but the food was good\\n', 'My friends took me here saying that they had found a place better than Lombardis. Im obseeeeeessed with Lombardis and with pizza in general lately so I welcomed the challenger with open arms. We decided on the meatball pizza and started with a caprese and a caesar salad. The tomatoes and mozzarella were huge and pletiful and fresh and tasted great with a splash of balsamic vinegar. I know it seems so silly and simple but its easy to make a crappy and unsatisfying caesar salad and this one was the opposite. It was delicious and had the perfect amount of dressing. Our pizza was definitely good. Huge leaves of basil and thick slices of meatball and toasty crust. I personally wouldnt go so far as to say it was better than Lombardis but it definitely didnt disappoint. I should also point out that our server was incredibly sweet and attentive and personable. A great local pizza joint.\\n', 'we have been long time fans of Peppinos. without a doubt a must try for delivered pizza in our opinion they are the best tasting delivered pizza available. never had to wait more than 40 mins. always hot. and most importantly consistant.\\n', 'Yum. So so happy to discover this place only a couple blocks from our new apartment. It is our goto for delivery and is even better straight out of the oven in their cute little restaurant. I also love that I can get their dough for 3 and try to recreate at home. We especially love the pizza with Vodka sauce. Not much else to say... great pizza friendly service good delivery\\n', 'Great italian food\\n', 'Great pizza. Good sauce quality ingredients love the fresh basil crust is great but had a couple pies with slightly burnt crust. Also quick delivery BUT make sure to ask the woman on the phone to read your order back to you before you hang up. Weve had several orders missing an ingredient or two. Still our goto pizza in the slope.\\n', 'Too fast. Thats my complaint. lol I asked how long an order would take and I was informed 3045 minutes. That was perfect as I was expecting my boyfriend home in 25 minutes and he was paying. Truth be told they showed up in about 15 minutes and I was stuck there feeling like an ass for holding this guy up as we waited the extra ten minutes for my boyfriend to arrive to pay. P He was very polite despite this so we gave him a good tip.  But be careful dont make any plans during the delivery time or theres a good possibility youll end up seeing them earlier than you expected. Food was good too if youre curious. P\\n', 'Super tasty pizza My favorite delivery in Brooklyn I also really enjoy the Caeser salad.\\n', 'This is the second Peppinos location to open in Brooklyn with the first in Bay Ridge same owners. Cant say enough about this place the food is top quality the ambiance is perfect prices are very good and the service is fantastic. Ive had a bunch of different dishes from Peppinos and they all have been great. Try the penne alla vodka with peas proscuitto and chicken....wow Ive also had the fresh mozzarella hero spinach ravioli and the eggplant parmagiana and they have all been great. Get the cold antipasto andor some clams to start the clams are CLEANED and taste authentic this is important. Last time i went they also gave complimentary mini foccaccia.  Lastly the pizza is awesome You can get 6 or 8 slice pies and they come in a bunch of different varieties. If you are on the fence about that to order go with the margharita pizza and you will be very happy. Gotta get to Peppinos for some great Italian food They also deliver and cater...\\n', 'A girls night in with Natalia O. we ordered pizza her fave from Peppinos. It was for lack of a better word absolutely delicious If I could give 6 stars for this pizza I would and Im not a pizza person. The crust was just perfect the cheese just the right amount of saltiness and the sauce perfectly sweet and mouthwatering. Delivery took less time than grub hub indicated. About 30 mins. Delivered fresh and piping hot to my door all for 20. That includes the tip. All that yummy goodness with and a bottle of white wine  awesome dinner.\\n', 'I am a huge fan of New York pizza and in my opinion Pepinnos has the very best pizza in the city. The crust is what makes it great as it does with all great pizza. It reminds me of the crust at Johns Best for anyone who knows that secret gem up in Mount Kisko. But what makes me love this neighborhood classic more than anything is the excellent service friendly staff and family atmosphere although we usually order in cause we live up street. I consider myself blessed for living near the best pizzeria in town\\n', 'We popped in here while on an apartment search. It was good by no means the best pizza Ive had in NYC. I had the vodka pizza and changed the mushrooms for tomatoes. Do not get me wrong the sauce was yummy cheese fresh. My crust was not as crunch as I like it from other places. I prefer Grimaldis LB Joe  Pats or Joes Pizza in the West Village\\n', 'I joined Yelp specifically to give this place 5 stars. The food is totally delicious the bruschetta is totally extra terrestrially delicioustown The service was amazing the waitress and the busboy were attentive and polite. The place is also just really homey and comfy on a early winter night. While waiting for the bathroom I admired all the childrens drawing on the wall. You know when a kid draws a picture of pizza and he or she writes I LOVE YOU they aint lying.  Go get some\\n', 'Love this place. The best bruschetta I have ever eaten topped with chopped tomatoes and garlic. I am addicted to their spaghetti with garlic and olive oil. And their pizza is incredible too you can eat all of the crust.\\n', 'The best pizza Ive had in NYC... a little expensive but worth it\\n', 'One word AMAZING There is no wait here and service is FANTASTIC Oh...did I forget to mention the pizza Well watch out Grimaldis Peppinos is by far a better pizza.\\n', 'Why does this place exist when its closed about 75 of the time No matter what time of day Ive gone by I see it closed. I have only been able to successfully go one time it happened to be a Saturday night. I went back a few weeks later on a Saturday night and it wasnt opened. If you can actually go its worth it because the pizza was good. However dont rely on it... and with such random hours who knows how fresh the food will be anyway.\\n', 'Peppinos makes some very solid pizza. The ingredients are top notch and the dough they use is particularly good. The interior has a family style appeal great neighborhood place. My only complaint is that the prices are just a tad high for a local pizza joint. Their small plain pizza is 2 more than a small at Totonnos.\\n', 'if your Italian friend tell you its a great pizza you better trust him  the pizza is crispy think and you can taste the fresh mozzarella all over the pizza. the Vodka sauce on a pizza is light and tasty. dont forget the to get the bruschetta for appetizer. Friendly waiters and nice pizzeria. This is the place I diffidently go again to discover their wonderful pizza or great sandwiches again.\\n', 'We checked out Peppinos because we were at the Brooklyn Botanical Gardens and figured wed take a walk through Prospect Park grab some pizza and then take the R train back to Manhattan. It was a bit a of a hike from BBG but the reviews were so good on Yelp that we had to try it. We ordered the fried ravioli appetizer and they were delicious. Next up a small Margherita Pizza. Bleh. The ingredients were good but the dough was burnt despite being spongy and not crispy at all. Ive read reviews where the pizza was crisp and delicious so they must have problems with consistency. The service was awesome and everyone was very friendly. My drink was never empty which was good on a hot day where we had done a lot of walking. If Im in the area again I may give it another try but I wouldnt go too far out of my way.\\n', 'Oh hell yes. Despite a lowend looking exterior Peppinos makes a delicious yet affordable gourmet pie. The margherita is perfect  fresh basil quality cheese tangy sauce chewy crust. Delivery is prompt the person taking the orders is polite and even strolling in and ordering a pie To Go doesnt result in an interminable wait. Cant speak to the diningin experience  I abhor bright lights in restaurants and this place is lit up like an operating room so Ive stuck to delivery and takeout. A great goto pizza place. I hope they stay open forever and a day.\\n', 'Wow brick oven pizza....delicious...I ordered something called Quattro Spuglioni.The slices were hot and fresh you could taste its ingredients the fresh tomato sauce the basil the olivesthe EVOOI love you Ms.Raythe hamthe crispy thin crust and of course the cheese. The waitress was very attentive and friendly. The layout is kind of typical Italian style restaurant plaid tablecloth the decor was kinda weird too much going on you have a picture of Marilyn Monroe the Brooklyn Bridge a crucifixs a picture of St. Pio it was too much. But this place gets high praises and Ill definitely be back.\\n', 'Park Slope has a place to get good pizza... phew..... For a minute there...I lost myself...I lost myseeeeeelf This is what you get...when ya mess with us. Families with babies rejoice great proscuitto. great tasting dough. fresh basil. very nice staff. great coal oven taste. I know I will be ordering from here much as they have free delivery and they are very pleasant to deal with.\\n', 'Its a local pizza place with great brick oven pizza. The atmosphere is comfortable and it feels like a familyrun joint. Its bright inside so it might not be a great place for a first date. But if you live nearby this should be your goto pizza place. Also the cheesesteaks here are delicious.\\n', 'My Italian friend Sal from Brooklyn asked me what I wanted to eat while I was in town visiting for the weekend. Two things came to mindcannolis and brickovenfired pizza from a legit pizzeria. Sal took me here after a long day in the city to get some dinner. We shared a large margherita pizza with italian sausage cause I like my meat but also love a traditional margherita and a shrimp oreganata served with linguini in a garlicolive oil sauce. The pizza was to die for You honestly cant get anything like that here on the west coast. The linguini was meha little bland for my taste but the shrimp was covered in this delicious rub rich in spicesI could easily imagine myself having an entire bucket of these while watching tv. ...Then we went took the F line back to Sals place so I could have two more cannolis before heading to bed. Mission accomplished\\n', 'mmmmm delishh...staff is very attentive and friendly food is made fresh with much care...its not ur ordinary pizza spot its a very cozy sit down resturant with great choices...loved it here...will come back\\n', 'Pretty good  and certainly a great option for nonNY style pizza in the South Slope. Nothing to travel for though. I found the plain pizza to be undersalted and the beer selection isnt so hot. Eh.\\n', 'Great brick oven pizza...and even better is that they make whole wheat crust I suggest the whole wheat pie with spinach. Only down side is they dont make a lot of it so on a busy night it can be hit or miss if they have it.\\n', 'This place has great pizza good sandwiches and the wait staff is always REALLY nice. Last time we were there they gave us free bruschetta for the hell of it... oh and they have 3 Peroni\\n', 'Great sauce. Plain pizza is terrific. No broccoli though  Also great chicken parm and the bread is fantastic\\n', 'Its hard to impress me food wise so I only give this place 3 stars for now. I went for the first time yesterday since it was in the neighborhood and I decided to take a walk in the snow storm. I ordered a seafood salad pasta fagioli soup and a margarita pizza with sausage. I am not a pig I was with my boyfriend and we shared it all. LOL.  The seafood salad was really good but I could have done without the pitted olives. I love olives just not pitted. The soup was sort of bland but could have been because my mouth was tainted with the oil and spices of the seafood salad. The pizza came out and it was thin which is good to me. The sausage was thinly sliced too. Service was good but we were one of three tables there so if service wasnt good shame on them. I would go back to Peppinos to try other food on the menu but I like La Villa better so far.\\n', 'Overpriced and mediocre.The Pizza was burnt on the bottom. and the flavor were sub par. I ordered the veggie pie and the Margarita pizza. 43.90. This is Pizza not caviar. Next..\\n', 'This is a very nice time Id say hit the bruschetta for the appetizer  get a pizza  a pasta dish for the dinner I mean assuming you go in a group of around 34 you might want more or less depending. Plus Peroni is basically only good at places like this. Get a draught\\n', 'My favorite pizza in Park Slope. All their sandwiches are delicious. The meatball parm is a favorite. The staff is extremely friendly.\\n', 'The meatball roll was great but the brick oven pizza didnt hold up well enough for delivery.\\n', 'Incredible pizza... crispy crustdelicious toppings and pretty much the friendliest service imaginable. We ordered four pizzas to take out and they gave us free bottles of soda and free drinks while we waited. We felt like family.\\n', 'Weve continued to go to Peppinos and keep find ourselves there because we like it so much. Last night we had a great arugula red onion and cherry tomato pizza. The service is always friendly and theres always space for us. Pros Good friendly service delicious pizza Cons Oddly enough my son hates the tablecloths and always has hes 5  \\n', 'Not your average neighborhood pizza dive Ranks with some of the citys thincrust pantheons both old and noveau. Fantastic calzones too. BEWARE does not travel wellnot recommended for delivery unless youre pretty close by.\\n', 'A few of the other local delivery places raised their prices and lowered quality Peppinos website informs they just reduced prices slightly. If Im craving traditional Brooklyn plain slice Ill order from somewhere else but this is my new default pizza delivery. The cheese steak wasnt bad either.\\n', 'Came here on Thursday for dinner with my parents who were in town. I chose Peppinos because I read a lot of good reviews and it certainly held up to its reputation. Even with a group of 30 that was piling in when we arrived the waiters were very attentive and pleasant. We ordered the garlic crisps as an appetizer and shared a large margherita pizza with pepperoni. I absolutely loved the fresh mozzarella on the pizza and the slices actually had substance unlike the flatasapancake slices I find everywhere in the city.\\n', 'Love it  Had the Pizza Bianca or something like that. White pizza. Best Ive had in the city. Also a neat looking old timey phone booth\\n', 'Ok...I love bread...hence I love deep dish pizzas. It also doesnt help that all my family lives in Chicago. The thicker the crust the better. I even named my dog Gino after Ginos East Pizza in Chicago. I stopped by Peppinos ordered a mozzarellatomato sausage and a mushroom pizza and thought they were pretty darn good. The two guys that were working were super friendly. Coming from Hawaii this was my first taste of New York style pizza and it was pretty good. Will I convert Maybe...since I hold no loyalties to either city. I would return if I didnt have to struggle for parking.  If you ask me Id prefer a Hawaiian pizza for obvious reasons...\\n', 'Friggin good The crust is THE perfect paradigm of crisp light chewiness. And the proportion of cheese to topping to sauce was well balanced I had margarehita wpepperoni.  Maybe could have used a bit more basil but really just a minor offense.   Casual and comfortable but very clean and attentive waitstaff.  So happy to find good pizza in the neighborhood...tried some other musthaves and utterly disappointed.\\n', 'Peppinos is my new neighborhood love for 2 reasons  the brick oven is the bomb and the staff is super friendly and polite. You seriously feel like you are eating over at a friends house and their recession special is perfect  2 slices any kind and a soda for 5 or maybe its 6 I cant really remember. All I know is that I stopped by for lunch with a former east coaster craving good pizza we both got 2 slices and a soda caught up on old times for 2 hours were never rushed to leave and only paid 12  The staff is so welcoming. Even if its your first time there you feel like a part of the family.  Enjoy\\n', 'I love when you go back again that the experience is just as amazing as the first time We had the sausage pizza with tomato sauce and I loved that it wasnt too acidy. I love that theyre fast and pleasant  this is my favorite and cant wait to try more of their pizzas\\n', 'Decided on a whim to go to Peppinos with my roommates for a casual Sunday night dinner and boy am I glad we did The ambiance was exactly what we were looking for  your typical neighborhood pizza place. Very clean casual and the waitstaff was very friendly we felt right at home.  Our pizza was delicious  we ordered a large grilled chicken pie. The cherry tomatoes on it melted in your mouth and were perfectly complimented by mushrooms and of course grilled chicken. We were also very impressed by the variety on the menu. Ill definitely be back to try a pasta dish. All in all a great choice\\n', 'Peppinos was a very pleasant surprise. We went there honestly because it was chilly and we were too lazy to go out to Di Fara. We wanted pizza but something good  not the normal crap that passes for a pie in the Slope. When we decided against Di Fara my next thought was Frannys  where else But that wouldve still ended up being a hike for us and so we figured no something closer. We had passed Peppinos several times and it looked inviting but the prices were a bit offputting  17 for a margherita pie isnt outrageous for brick oven but weve got kids and these days every buck counts. Still we wanted something better than the usual fare so we headed on down. We ordered a margherita but asked for some ricotta on it and the mozzarella and tomato plate to start. The mozzarella and tomato plate was uninspiring fairly normal but thats not a bad thing. The pizza itself was quite good  and surprisingly large. Most of these brick oven places charge you twice what a normal pie runs and gives you something around the size of a frisbee and expect you to be blown away. Frannys is guilty of this for instance although the obvious art and effort that goes into their pies mostly makes up for it. This one though was full sized  and made with fresh mozzarella and herbed ricotta. For that price it was excellent. The sauce was the best part  one of the best pizza sauces weve had in a while. The crust was crisp on the edges soft on the inside firm and thick enough to hold the pizza together but not so thick that you feel like youre eating a piece of bread with sauce and cheese on top. The only real downside was that there was actually too much cheese  we wish we had asked for extra sauce or maybe a small cup of it on the side to dip into. The waiter also brought out  gratis  a mini pie half margherita half calzone for us to try. Im not quite sure why  maybe because we had asked for ricotta on our pie which is basically a different incarnation of the pie we got. We werent objecting. The service was a little distracted but very friendly and very tolerant of our girls who were feeling especially rambunctious. They have kids drawings taped all over one of the walls and everyone was smiling as they worked. The decor was a little off  I think they werent quite sure if they were upscale brick oven local neighborhood joint familyrun establishment... it looked like a mix of all of the above. Overall Id recommend them pretty highly. The prices were very affordable and the pies very satisfying. They arent the best in the world but in Park Slope Pretty close to it.\\n', 'As a resident of South Park Slope I think I would have to move away if my neighborhood ever lost Peppinos. What might seem like a slightlyaboveaverage pizzeriaitalian restaurant is actually a diamond in the rough.  From my personal fav Grilled Chicken Italiano Sandwich to my other fav Putanesca Pizza Peppinos just makes things that taste GREAT.  It might be the brick oven it might be the unique sauce they use or the fresh mozarella cheese but whatever it is I am addicted. The goto place for myself my wife or any visitor we have to the area Peppinos is the spot.\\n', 'Ive eaten here three times and I love it. Ive only ever had the regular cheese slices but theyre awesome. The cheese is gooey and the brickoven gives the crust a nice smoky flavor. I only wish the slices were crispier they are a little too floppy for my liking. Get the recession special its two slices and a soda for 5.\\n', 'Just had Peppinos for the first time Im ashamed to say. Ive lived right next door to the place and have never been over there until tonight but it was really good pizza. I had a pizza with tomato sauce garlic basil and capers no cheese and it was awesome.. cant wait to try the others. I got the small which is 6 slices and I usually can put away a lot of food see photo but only ate half all for 10. I will be stopping in for a full dinner one of these nights instead of just getting to go food  looked cool inside and a great neighborhood spot.\\n', 'They have a nice little computer setup where it knows your number via caller ID then pulls up your address. I just moved and to reward my helpers I ordered some pizza. When they supplied my old address I told them I had just moved that day. The man on the phone congratulated me and took the new address. When delivery came Peppinos sent over 2 twoliters of soda on the house. Thanks guys\\n', 'Really tasty brick oven pizza with a delicious sauce. I also love their sausage and peppers hero though part of what I loved about it was that it was served on almost pizza doughlike bread. The last time I ordered it excited for its deliciousness it showed up on a normal hero. I was really disappointed. That said it was still damn good... just not as good. Next time Ill call and explicitly ask about the bread. Their margarita and diavolo pizzas are both amazing. I only wish I didnt get my weekly Peppinos hankerings consistently on Monday the one day of the week that theyre closed.\\n', 'Last weekend I ordered a margarita pie and the delivery guy brought two for me because theyd over cooked the crust on the first one still delicious despite being extra crisp. I was so impressed that they gave me both and I had lunch for the next day...added bonus. Their brick oven gives the pizza a slight smoky flavor absent from most pizzas setting it apart from the pack. The crust is wonderfully thin toppings are plentiful and fresh. The pizza is perfect typical NYstyle great for folding. Yummmmmmmmm...\\n', 'I eat here sooooooooo much. And its not because I am lazy and it is only a few blocks from my place. If you are in the mood for Italian Peppinos gives you so many options. Their Brick oven pie is the best I have ever had. I have done the Grimaldis and Lombardis and I feel this pie trumps it. Two pies in particular Pizza alla Vodka and the Diavola. The ingredients are always very fresh and they cook the pie correctly so it is not flimzy.  Than there are the Heros. The Chicken parm and Meatball parm are phenomenal. The tomato sauce tastes like an old family recipe and we are lucky enough to enjoy it. Also I think Pepinos is the only restaurant with this type of hero bread and they toast it in the brick oven too. The last thing I have had is the raviolis and you really cant go wrong with this. Great sauce fresh and a good helping. I swear I am not a promoter for Peppinos but if you are in the slope do yourself a favor and dont wait in line for Grimaldis sit down and enjoy a pie at Peppinos\\n', '2 words Quattro Stagioni.\\n', '...despite a bad review I previously posted I made another trip out here and was delightfully surprised. The service was friendly and inviting as were the pizzas. Thin crust was a bit soggy but the flavors played in my mouth like a perfect concerto that would make any Salieri wannabe jealous. Brick oven and a family environment add great touches but the real hero is the pizzas. Ill make another trip out to try their pastas...to be continued\\n', 'We LOVE this place. They have quite a few yummy pizza selections and the thin crispy crust ...makes my mouth water just thinking about it. It is expensive yes for a pie but the taste makes it worthwhile.\\n', 'I just finished the Recession Special a lunchtime deal of two slices and a drink root beer in my case for 5. I hadnt done my research in advance so I was expecting just an average streetside pizza place. Not the case. The pizza was amazingthin crust crisp at the edges and chewy in the center with the perfect smattering of black freckles on the bottom from the fiery brick oven. Just the right amount of cheese and sauce with a lot of real tomatoes basil and oregano. Peppinos blows Joes Pizza a block south completely out of the water. Service was quick and friendly and its only a block from my homeoffice and a few more from Prospect Park which meant work picnic. This place is likely to become a dangerous lunchtime habit at least as long as the recession lasts. I havent been for dinner or a full pie and it seems like the prices are pretty steep so Ill stick to lunch for now.\\n', 'Really delicious brick oven pizza. Ive ordered delivery and it came piping hot and in a super timely fashion. At the restaurant service was great and super accommodating plus we got warm fluffy bread which is always appreciated. Only downside the pizza is hella expensive definitely not what your average pizza night would cost.\\n', 'I havent eaten in yet but delivery wasnt great. It tasted a little stale and bland. It tasted like it could have been good if I ate it straight out of the oven though. Its also pretty expensive... 15 for a small 6 slice pie.\\n', 'Im torn about writing this review on the one hand I dont want word to get out that Peppinos is great and make it all crowded. On the other hand I think business is currently a little slow and and I dont want the best pizza in Park Slope to go under. The pizza and sandwiches are both great. Dough is homemade chewy with a nice crispiness to the crust obviously it suffers a little in delivery as all highend pizza does. We ask for ours welldone when delivering. Most sandwiches come on bread made from the same dough as the pizza. Sauce is flavorful chunky wellspiced and not at all sweet which I hate. Cheese is very good with actual flavor as opposed to the rubbery fatwads lots of pizza places use. Toppings are highquality and they dont skimp. Is this the best pizza in New York No. Is it the best pizza in Park Slope Definitely. I hope you agree just dont be sitting in my seat when I get there.  \\n', 'Went on a Tuesday night around 7pm. We were the only diners besides one lonely guy sitting at one of the tables. It didnt deter us from giving this place a try. Its super clean in there with decent decor which is a plus. The waitress was also super friendly another plus. We ordered a small margherita pizza and one cheese steak to share.  The pizza was bleh the main reason for the lower star rating. I definitely would not order pizza from here again. The crust was burned on the bottom but it wasnt crisp. The sauce didnt have enough flavor and the cheese tasted a bit rubbery.  The cheesesteak was the highlight though. Great flavor with a great hero bread. I might go back for the cheesesteak since Im in the area a lot. You still cant beat 99 miles to philly for a good cheesesteak found in NY though\\n']\n"
          ],
          "name": "stdout"
        }
      ]
    },
    {
      "cell_type": "code",
      "metadata": {
        "colab": {
          "base_uri": "https://localhost:8080/"
        },
        "id": "LpiS9wCHYVys",
        "outputId": "726c6be0-2d0c-4f88-a4ae-76eac2b2c002"
      },
      "source": [
        "#print(data1[0])"
      ],
      "execution_count": null,
      "outputs": [
        {
          "output_type": "stream",
          "text": [
            "the food snack select popular greek dishes. the appet tray good greek salad. We underwhelm main courses. there 45 tabl sometim hard get seated.\n"
          ],
          "name": "stdout"
        }
      ]
    },
    {
      "cell_type": "code",
      "metadata": {
        "id": "IglHYJRLUDMe"
      },
      "source": [
        "#Tokenize the reviews to get content similarty matrix"
      ],
      "execution_count": null,
      "outputs": []
    },
    {
      "cell_type": "code",
      "metadata": {
        "id": "v127w2BYOeo5",
        "colab": {
          "base_uri": "https://localhost:8080/"
        },
        "outputId": "4d2cca31-c2d2-4566-aa49-e0f639a1d137"
      },
      "source": [
        "\n",
        "stemmer = nltk.stem.porter.PorterStemmer()\n",
        "def StemTokens(tokens):\n",
        "    return [stemmer.stem(token) for token in tokens]\n",
        "remove_punct_dict = dict((ord(punct), None) for punct in string.punctuation)\n",
        "def StemNormalize(text):\n",
        "    return StemTokens(nltk.word_tokenize(text.lower().translate(remove_punct_dict)))\n",
        "lemmer = nltk.stem.WordNetLemmatizer()\n",
        "def LemTokens(tokens):\n",
        "    return [lemmer.lemmatize(token) for token in tokens]\n",
        "remove_punct_dict = dict((ord(punct), None) for punct in string.punctuation)\n",
        "def LemNormalize(text):\n",
        "    return LemTokens(nltk.word_tokenize(text.lower().translate(remove_punct_dict)))\n",
        "TfidfVec = TfidfVectorizer(tokenizer=LemNormalize, stop_words='english')\n",
        "def cos_similarity(textlist):\n",
        "    tfidf = TfidfVec.fit_transform(textlist)\n",
        "    return (tfidf * tfidf.T).toarray()\n",
        "sim = defaultdict(list)\n",
        "for val in review:\n",
        "    sim[val].append(cos_similarity(review[val]))\n",
        "\n",
        "sim_final = defaultdict(list)\n",
        "for val in sim:\n",
        "  # for i in range(len(sim[val][0])):\n",
        "  sim_final[val].append(numpy.mean(sim[val][0], axis = 1))\n",
        "  sim_final[val].append(numpy.var(sim[val][0], axis = 1))\n",
        "\n",
        "normalized_sim = defaultdict(list)\n",
        "for val in sim_final:\n",
        "  normalized_sim[val].append(preprocessing.normalize(np.array(sim_final[val]), norm='max', axis=1))\n",
        "\n",
        "b = []\n",
        "for val in normalized_sim:\n",
        "  for i in range(len(normalized_sim[val][0][0])):\n",
        "    b.append([val, normalized_sim[val][0][0][i], normalized_sim[val][0][1][i]])\n",
        "\n",
        "ar = np.array(b)\n",
        "np.savetxt('norm_similarity.csv', ar, delimiter=',',fmt='%s',header=\"ProductID,MeanSimilarity,Variance\")"
      ],
      "execution_count": null,
      "outputs": [
        {
          "output_type": "stream",
          "text": [
            "/usr/local/lib/python3.7/dist-packages/sklearn/feature_extraction/text.py:385: UserWarning: Your stop_words may be inconsistent with your preprocessing. Tokenizing the stop words generated tokens ['ha', 'le', 'u', 'wa'] not in stop_words.\n",
            "  'stop_words.' % sorted(inconsistent))\n"
          ],
          "name": "stderr"
        }
      ]
    },
    {
      "cell_type": "code",
      "metadata": {
        "id": "bj5ri83Dt8RW"
      },
      "source": [
        ""
      ],
      "execution_count": null,
      "outputs": []
    },
    {
      "cell_type": "code",
      "metadata": {
        "colab": {
          "base_uri": "https://localhost:8080/"
        },
        "id": "oHQBAoi_L0_w",
        "outputId": "da70b77f-a2d2-4f43-bf19-652e33267305"
      },
      "source": [
        "#print(sim_final['3'])\n",
        "#print(a[1])"
      ],
      "execution_count": null,
      "outputs": [
        {
          "output_type": "stream",
          "text": [
            "[array([0.05754274, 0.0439468 , 0.06243739, 0.10254905, 0.06513711,\n",
            "       0.06796427, 0.07770346, 0.08850489, 0.08674516, 0.07251857,\n",
            "       0.08224877, 0.07572205, 0.09205948, 0.05812363, 0.06453566,\n",
            "       0.09319698, 0.08079935, 0.06893712, 0.07030854, 0.09922079,\n",
            "       0.05671803, 0.07461461, 0.06838011, 0.0884723 , 0.10145704,\n",
            "       0.04871571, 0.08292835, 0.07333725, 0.0812713 , 0.05756541,\n",
            "       0.07766678, 0.08840682, 0.06829501, 0.0669811 , 0.10141578,\n",
            "       0.10891447, 0.06887301, 0.06914226, 0.08880783, 0.07808225,\n",
            "       0.05866798, 0.07998729, 0.08232838, 0.06235779, 0.08650873,\n",
            "       0.08412268, 0.05356171, 0.07273922, 0.09309549, 0.07415134,\n",
            "       0.07675214, 0.08442394, 0.08361678, 0.0679149 , 0.05889105,\n",
            "       0.06690112, 0.05568495, 0.07800545, 0.09750947]), array([0.01726425, 0.01613061, 0.01625141, 0.01563996, 0.01669422,\n",
            "       0.01592588, 0.01583896, 0.01519921, 0.01562516, 0.01561853,\n",
            "       0.01571313, 0.01611816, 0.01586422, 0.01608892, 0.01563019,\n",
            "       0.01651121, 0.01562455, 0.01589781, 0.0159714 , 0.01550807,\n",
            "       0.0169328 , 0.01574012, 0.01609701, 0.01574842, 0.01557017,\n",
            "       0.01616179, 0.01538801, 0.0158346 , 0.01606725, 0.01664942,\n",
            "       0.01562935, 0.01563854, 0.01572604, 0.01605269, 0.01614083,\n",
            "       0.01621609, 0.01620506, 0.01624128, 0.01511091, 0.01610943,\n",
            "       0.01625802, 0.01549862, 0.0168394 , 0.01611857, 0.0159647 ,\n",
            "       0.01539923, 0.01604273, 0.01578896, 0.01540375, 0.01661766,\n",
            "       0.01562672, 0.01555394, 0.01563102, 0.01639664, 0.01582   ,\n",
            "       0.01656089, 0.01610934, 0.01577525, 0.01651446])]\n"
          ],
          "name": "stdout"
        }
      ]
    },
    {
      "cell_type": "code",
      "metadata": {
        "id": "HFfaN1gNUQI8"
      },
      "source": [
        "#Read Review Graph file"
      ],
      "execution_count": null,
      "outputs": []
    },
    {
      "cell_type": "code",
      "metadata": {
        "id": "sMcBBNPhZ11e"
      },
      "source": [
        "file2 = open(\"/content/reviewGraph\")\n",
        "dic = defaultdict(list)\n",
        "for row in file2:\n",
        "    tr = row.split()\n",
        "    dic[tr[1]].append(float(tr[-1]))\n",
        "file2.close()"
      ],
      "execution_count": null,
      "outputs": []
    },
    {
      "cell_type": "code",
      "metadata": {
        "id": "RppCXIRMUTZe"
      },
      "source": [
        "#Read Metadata file"
      ],
      "execution_count": null,
      "outputs": []
    },
    {
      "cell_type": "code",
      "metadata": {
        "id": "AAVuipONyAk9"
      },
      "source": [
        "file2 = open(\"/content/metadata\")\n",
        "d1 = []\n",
        "d2 = []\n",
        "for row in file2:\n",
        "    tr = row.split()\n",
        "    if int(tr[3]) == -1:\n",
        "      d1.append(row)\n",
        "    else:\n",
        "      d2.append(row)\n",
        "file2.close()"
      ],
      "execution_count": null,
      "outputs": []
    },
    {
      "cell_type": "code",
      "metadata": {
        "id": "XlXGI-c3UXbY"
      },
      "source": [
        "#Create Product related features"
      ],
      "execution_count": null,
      "outputs": []
    },
    {
      "cell_type": "code",
      "metadata": {
        "colab": {
          "base_uri": "https://localhost:8080/"
        },
        "id": "cjr7X_3Tb6Mn",
        "outputId": "fdd21e84-9bf4-4d7f-c6b3-585f2a023600"
      },
      "source": [
        "\n",
        "ar = []\n",
        "for val in dic:\n",
        "  ar.append([val, sum(dic[val])/len(dic[val]), 1 if len(dic[val]) == 1 else 0 , len(dic[val])])\n",
        "\n",
        "a = np.array(ar)\n",
        "np.savetxt('product.csv', a, delimiter=',',fmt='%s',header=\"ProductID,MeanRating,Signleton,numberOfReviews\")\n",
        "print(a)"
      ],
      "execution_count": null,
      "outputs": [
        {
          "output_type": "stream",
          "text": [
            "[['0' '4.0095238095238095' '0' '210']\n",
            " ['1' '4.32806324110672' '0' '253']\n",
            " ['3' '4.169491525423729' '0' '59']\n",
            " ...\n",
            " ['920' '4.094771241830065' '0' '306']\n",
            " ['921' '4.171875' '0' '192']\n",
            " ['349' '4.185185185185185' '0' '108']]\n"
          ],
          "name": "stdout"
        }
      ]
    },
    {
      "cell_type": "code",
      "metadata": {
        "colab": {
          "base_uri": "https://localhost:8080/"
        },
        "id": "ZfUXdswqzlY8",
        "outputId": "0485f7ab-4682-4bc8-9cec-788a44b5d13a"
      },
      "source": [
        "# print(len(d1))\n",
        "# print(len(d2))"
      ],
      "execution_count": null,
      "outputs": [
        {
          "output_type": "stream",
          "text": [
            "36885\n",
            "322167\n"
          ],
          "name": "stdout"
        }
      ]
    },
    {
      "cell_type": "code",
      "metadata": {
        "colab": {
          "base_uri": "https://localhost:8080/"
        },
        "id": "UEHfO4DBuaq2",
        "outputId": "e124686a-5b2c-42a0-b2dc-b1ceea5fbc56"
      },
      "source": [
        "#Train models and feature importance"
      ],
      "execution_count": null,
      "outputs": [
        {
          "output_type": "stream",
          "text": [
            "Mounted at /content/drive\n"
          ],
          "name": "stdout"
        }
      ]
    },
    {
      "cell_type": "code",
      "metadata": {
        "id": "plpgyVyRuQKP"
      },
      "source": [
        "df = pd.read_csv('/content/featuresAll.csv')\n",
        "labels = pd.read_csv('/content/labels.csv')"
      ],
      "execution_count": null,
      "outputs": []
    },
    {
      "cell_type": "code",
      "metadata": {
        "id": "28Ik63kgxFUa"
      },
      "source": [
        "from numpy import mean\n",
        "from numpy import std\n",
        "from pandas import read_csv\n",
        "from matplotlib import pyplot\n",
        "from sklearn.preprocessing import LabelEncoder\n",
        "from sklearn.preprocessing import OneHotEncoder\n",
        "from sklearn.preprocessing import MinMaxScaler\n",
        "from sklearn.pipeline import Pipeline\n",
        "from sklearn.compose import ColumnTransformer\n",
        "from sklearn.model_selection import cross_val_score\n",
        "from sklearn.model_selection import RepeatedStratifiedKFold\n",
        "from sklearn.model_selection import cross_validate\n",
        "from sklearn.tree import DecisionTreeClassifier\n",
        "from sklearn.svm import SVC\n",
        "from sklearn.ensemble import RandomForestClassifier\n",
        "from sklearn.ensemble import GradientBoostingClassifier\n",
        "from sklearn.ensemble import BaggingClassifier\n",
        "\n",
        "# load the dataset\n",
        "def load_dataset(full_path):\n",
        "\t# load the dataset as a numpy array\n",
        "\tdataframe = read_csv(full_path, header=None, na_values='?')\n",
        "\t# drop rows with missing\n",
        "\tdataframe = dataframe.dropna()\n",
        "\t# split into inputs and outputs\n",
        "\tlast_ix = len(dataframe.columns) - 1\n",
        "\tX, y = dataframe.drop(last_ix, axis=1), dataframe[last_ix]\n",
        "\t# select categorical and numerical features\n",
        "\tcat_ix = X.select_dtypes(include=['object', 'bool']).columns\n",
        "\tnum_ix = X.select_dtypes(include=['int64', 'float64']).columns\n",
        "\t# label encode the target variable to have the classes 0 and 1\n",
        "\ty = LabelEncoder().fit_transform(y)\n",
        "\treturn X.values, y, cat_ix, num_ix\n",
        "\n",
        "# evaluate a model\n",
        "def evaluate_model(X, y, model):\n",
        "  # define evaluation procedure\n",
        "  cv = RepeatedStratifiedKFold(n_splits=10, n_repeats=3, random_state=1)\n",
        "  #evaluate model\n",
        "  #scores = cross_val_score(model, X, y, scoring=['f1-score'], cv=cv, n_jobs=-1)\n",
        "\n",
        "  scores = cross_validate(model, X, y, scoring=['precision', 'recall', 'f1', 'accuracy'], cv=cv, n_jobs=-1 )\n",
        "  return scores\n",
        "\n",
        "# define models to test\n",
        "def get_models():\n",
        "\tmodels, names = list(), list()\n",
        "\t# CART\n",
        "\t#models.append(DecisionTreeClassifier())\n",
        "\t#names.append('CART')\n",
        "\t# SVM\n",
        "\tmodels.append(SVC(gamma='scale'))\n",
        "\tnames.append('SVM')\n",
        "\t# Bagging\n",
        "\t#models.append(BaggingClassifier(n_estimators=100))\n",
        "\t#names.append('BAG')\n",
        "\t# RF\n",
        "\t#models.append(RandomForestClassifier(n_estimators=100))\n",
        "\t#names.append('RF')\n",
        "\t# GBM\n",
        "\t#models.append(GradientBoostingClassifier(n_estimators=100))\n",
        "\t#names.append('GBM')\n",
        "\treturn models, names\n",
        "\n",
        "# define the location of the dataset\n",
        "#full_path = 'adult-all.csv'\n",
        "# load the dataset\n",
        "#X, y, cat_ix, num_ix = load_dataset(full_path)\n",
        "X = df\n",
        "Y = labels\n",
        "# define models\n",
        "models, names = get_models()\n",
        "results = list()\n",
        "# evaluate each model\n",
        "for i in range(len(models)):\n",
        "  # define steps\n",
        "  #steps = [('c',OneHotEncoder(handle_unknown='ignore'),cat_ix), ('n',MinMaxScaler(),num_ix)]\n",
        "  # one hot encode categorical, normalize numerical\n",
        "  #ct = ColumnTransformer(steps)\n",
        "  # wrap the model i a pipeline\n",
        "  pipeline = Pipeline(steps=[('m',models[i])])\n",
        "  # evaluate the model and store results\n",
        "  scores = evaluate_model(X, Y, pipeline)\n",
        "  print(\"SCORES\")\n",
        "  print(scores)\n",
        "  results.append(scores)\n",
        "  # summarize performance\n",
        "  #print('>%s %.3f (%.3f)' % (names[i], mean(scores), std(scores)))\n",
        "# plot the results\n",
        "pyplot.boxplot(results, labels=names, showmeans=True)\n",
        "pyplot.show()"
      ],
      "execution_count": null,
      "outputs": []
    },
    {
      "cell_type": "code",
      "metadata": {
        "colab": {
          "base_uri": "https://localhost:8080/"
        },
        "id": "gfVnO-h3rV8z",
        "outputId": "cdf82c6d-cb88-4b89-beec-9d4e40a6d302"
      },
      "source": [
        "X1 = df.to_numpy()\n",
        "Y = labels.to_numpy()\n",
        "print(Y.shape)"
      ],
      "execution_count": null,
      "outputs": [
        {
          "output_type": "stream",
          "text": [
            "(359052, 1)\n"
          ],
          "name": "stdout"
        }
      ]
    },
    {
      "cell_type": "code",
      "metadata": {
        "id": "mQLN9xuAZ11e",
        "colab": {
          "base_uri": "https://localhost:8080/",
          "height": 531
        },
        "outputId": "aee071eb-cb2a-40f5-eb07-ff89ebe469ab"
      },
      "source": [
        "model = RandomForestClassifier(n_estimators=100)\n",
        "\n",
        "pca = PCA(n_components=7)\n",
        "skf = StratifiedKFold(n_splits=10)\n",
        "fold_no = 1\n",
        "for train_index, test_index in skf.split(X1, Y):\n",
        "    X1_train = X1[train_index,:]\n",
        "    X1_test = X1[test_index,:]\n",
        "    Y_train = Y[train_index,:]\n",
        "    Y_test = Y[test_index,:]\n",
        "    pca.fit(X1_train)\n",
        "    X_train = pca.transform(X1_train)\n",
        "    X_test = pca.transform(X1_test)  \n",
        "    model.fit(X_train, np.ravel(Y_train,order='C'))\n",
        "    predictions = model.predict(X_test)\n",
        "    print('Fold',str(fold_no),'Accuracy:',accuracy_score(Y_test,np.round(predictions)), ' Precision: ',precision_score(Y_test,np.round(predictions)), ' Recall: ',recall_score(Y_test,np.round(predictions)), ' F1-Score: ',f1_score(Y_test,np.round(predictions)))\n",
        "    fold_no += 1"
      ],
      "execution_count": null,
      "outputs": [
        {
          "output_type": "stream",
          "text": [
            "Fold 1 Accuracy: 0.898317829889155  Precision:  0.5454545454545454  Recall:  0.06180536730821361  F1-Score:  0.1110299488677867\n",
            "Fold 2 Accuracy: 0.8995154013256837  Precision:  0.5990220048899756  Recall:  0.06641366223908918  F1-Score:  0.11957052220595411\n",
            "Fold 3 Accuracy: 0.8977301211530427  Precision:  0.5252225519287834  Recall:  0.04798048251558688  F1-Score:  0.08792846497764531\n",
            "Fold 4 Accuracy: 0.8971730956691268  Precision:  0.49635036496350365  Recall:  0.055299539170506916  F1-Score:  0.09951219512195122\n",
            "Fold 5 Accuracy: 0.8862832474585712  Precision:  0.2735632183908046  Recall:  0.06451612903225806  F1-Score:  0.1044088615924545\n"
          ],
          "name": "stdout"
        },
        {
          "output_type": "error",
          "ename": "KeyboardInterrupt",
          "evalue": "ignored",
          "traceback": [
            "\u001b[0;31m---------------------------------------------------------------------------\u001b[0m",
            "\u001b[0;31mKeyboardInterrupt\u001b[0m                         Traceback (most recent call last)",
            "\u001b[0;32m<ipython-input-12-d11a70a42e4d>\u001b[0m in \u001b[0;36m<module>\u001b[0;34m()\u001b[0m\n\u001b[1;32m     12\u001b[0m     \u001b[0mX_train\u001b[0m \u001b[0;34m=\u001b[0m \u001b[0mpca\u001b[0m\u001b[0;34m.\u001b[0m\u001b[0mtransform\u001b[0m\u001b[0;34m(\u001b[0m\u001b[0mX1_train\u001b[0m\u001b[0;34m)\u001b[0m\u001b[0;34m\u001b[0m\u001b[0;34m\u001b[0m\u001b[0m\n\u001b[1;32m     13\u001b[0m     \u001b[0mX_test\u001b[0m \u001b[0;34m=\u001b[0m \u001b[0mpca\u001b[0m\u001b[0;34m.\u001b[0m\u001b[0mtransform\u001b[0m\u001b[0;34m(\u001b[0m\u001b[0mX1_test\u001b[0m\u001b[0;34m)\u001b[0m\u001b[0;34m\u001b[0m\u001b[0;34m\u001b[0m\u001b[0m\n\u001b[0;32m---> 14\u001b[0;31m     \u001b[0mmodel\u001b[0m\u001b[0;34m.\u001b[0m\u001b[0mfit\u001b[0m\u001b[0;34m(\u001b[0m\u001b[0mX_train\u001b[0m\u001b[0;34m,\u001b[0m \u001b[0mnp\u001b[0m\u001b[0;34m.\u001b[0m\u001b[0mravel\u001b[0m\u001b[0;34m(\u001b[0m\u001b[0mY_train\u001b[0m\u001b[0;34m,\u001b[0m\u001b[0morder\u001b[0m\u001b[0;34m=\u001b[0m\u001b[0;34m'C'\u001b[0m\u001b[0;34m)\u001b[0m\u001b[0;34m)\u001b[0m\u001b[0;34m\u001b[0m\u001b[0;34m\u001b[0m\u001b[0m\n\u001b[0m\u001b[1;32m     15\u001b[0m     \u001b[0mpredictions\u001b[0m \u001b[0;34m=\u001b[0m \u001b[0mmodel\u001b[0m\u001b[0;34m.\u001b[0m\u001b[0mpredict\u001b[0m\u001b[0;34m(\u001b[0m\u001b[0mX_test\u001b[0m\u001b[0;34m)\u001b[0m\u001b[0;34m\u001b[0m\u001b[0;34m\u001b[0m\u001b[0m\n\u001b[1;32m     16\u001b[0m     \u001b[0mprint\u001b[0m\u001b[0;34m(\u001b[0m\u001b[0;34m'Fold'\u001b[0m\u001b[0;34m,\u001b[0m\u001b[0mstr\u001b[0m\u001b[0;34m(\u001b[0m\u001b[0mfold_no\u001b[0m\u001b[0;34m)\u001b[0m\u001b[0;34m,\u001b[0m\u001b[0;34m'Accuracy:'\u001b[0m\u001b[0;34m,\u001b[0m\u001b[0maccuracy_score\u001b[0m\u001b[0;34m(\u001b[0m\u001b[0mY_test\u001b[0m\u001b[0;34m,\u001b[0m\u001b[0mnp\u001b[0m\u001b[0;34m.\u001b[0m\u001b[0mround\u001b[0m\u001b[0;34m(\u001b[0m\u001b[0mpredictions\u001b[0m\u001b[0;34m)\u001b[0m\u001b[0;34m)\u001b[0m\u001b[0;34m,\u001b[0m \u001b[0;34m' Precision: '\u001b[0m\u001b[0;34m,\u001b[0m\u001b[0mprecision_score\u001b[0m\u001b[0;34m(\u001b[0m\u001b[0mY_test\u001b[0m\u001b[0;34m,\u001b[0m\u001b[0mnp\u001b[0m\u001b[0;34m.\u001b[0m\u001b[0mround\u001b[0m\u001b[0;34m(\u001b[0m\u001b[0mpredictions\u001b[0m\u001b[0;34m)\u001b[0m\u001b[0;34m)\u001b[0m\u001b[0;34m,\u001b[0m \u001b[0;34m' Recall: '\u001b[0m\u001b[0;34m,\u001b[0m\u001b[0mrecall_score\u001b[0m\u001b[0;34m(\u001b[0m\u001b[0mY_test\u001b[0m\u001b[0;34m,\u001b[0m\u001b[0mnp\u001b[0m\u001b[0;34m.\u001b[0m\u001b[0mround\u001b[0m\u001b[0;34m(\u001b[0m\u001b[0mpredictions\u001b[0m\u001b[0;34m)\u001b[0m\u001b[0;34m)\u001b[0m\u001b[0;34m,\u001b[0m \u001b[0;34m' F1-Score: '\u001b[0m\u001b[0;34m,\u001b[0m\u001b[0mf1_score\u001b[0m\u001b[0;34m(\u001b[0m\u001b[0mY_test\u001b[0m\u001b[0;34m,\u001b[0m\u001b[0mnp\u001b[0m\u001b[0;34m.\u001b[0m\u001b[0mround\u001b[0m\u001b[0;34m(\u001b[0m\u001b[0mpredictions\u001b[0m\u001b[0;34m)\u001b[0m\u001b[0;34m)\u001b[0m\u001b[0;34m)\u001b[0m\u001b[0;34m\u001b[0m\u001b[0;34m\u001b[0m\u001b[0m\n",
            "\u001b[0;32m/usr/local/lib/python3.7/dist-packages/sklearn/ensemble/_forest.py\u001b[0m in \u001b[0;36mfit\u001b[0;34m(self, X, y, sample_weight)\u001b[0m\n\u001b[1;32m    381\u001b[0m                     \u001b[0mverbose\u001b[0m\u001b[0;34m=\u001b[0m\u001b[0mself\u001b[0m\u001b[0;34m.\u001b[0m\u001b[0mverbose\u001b[0m\u001b[0;34m,\u001b[0m \u001b[0mclass_weight\u001b[0m\u001b[0;34m=\u001b[0m\u001b[0mself\u001b[0m\u001b[0;34m.\u001b[0m\u001b[0mclass_weight\u001b[0m\u001b[0;34m,\u001b[0m\u001b[0;34m\u001b[0m\u001b[0;34m\u001b[0m\u001b[0m\n\u001b[1;32m    382\u001b[0m                     n_samples_bootstrap=n_samples_bootstrap)\n\u001b[0;32m--> 383\u001b[0;31m                 for i, t in enumerate(trees))\n\u001b[0m\u001b[1;32m    384\u001b[0m \u001b[0;34m\u001b[0m\u001b[0m\n\u001b[1;32m    385\u001b[0m             \u001b[0;31m# Collect newly grown trees\u001b[0m\u001b[0;34m\u001b[0m\u001b[0;34m\u001b[0m\u001b[0;34m\u001b[0m\u001b[0m\n",
            "\u001b[0;32m/usr/local/lib/python3.7/dist-packages/joblib/parallel.py\u001b[0m in \u001b[0;36m__call__\u001b[0;34m(self, iterable)\u001b[0m\n\u001b[1;32m   1042\u001b[0m                 \u001b[0mself\u001b[0m\u001b[0;34m.\u001b[0m\u001b[0m_iterating\u001b[0m \u001b[0;34m=\u001b[0m \u001b[0mself\u001b[0m\u001b[0;34m.\u001b[0m\u001b[0m_original_iterator\u001b[0m \u001b[0;32mis\u001b[0m \u001b[0;32mnot\u001b[0m \u001b[0;32mNone\u001b[0m\u001b[0;34m\u001b[0m\u001b[0;34m\u001b[0m\u001b[0m\n\u001b[1;32m   1043\u001b[0m \u001b[0;34m\u001b[0m\u001b[0m\n\u001b[0;32m-> 1044\u001b[0;31m             \u001b[0;32mwhile\u001b[0m \u001b[0mself\u001b[0m\u001b[0;34m.\u001b[0m\u001b[0mdispatch_one_batch\u001b[0m\u001b[0;34m(\u001b[0m\u001b[0miterator\u001b[0m\u001b[0;34m)\u001b[0m\u001b[0;34m:\u001b[0m\u001b[0;34m\u001b[0m\u001b[0;34m\u001b[0m\u001b[0m\n\u001b[0m\u001b[1;32m   1045\u001b[0m                 \u001b[0;32mpass\u001b[0m\u001b[0;34m\u001b[0m\u001b[0;34m\u001b[0m\u001b[0m\n\u001b[1;32m   1046\u001b[0m \u001b[0;34m\u001b[0m\u001b[0m\n",
            "\u001b[0;32m/usr/local/lib/python3.7/dist-packages/joblib/parallel.py\u001b[0m in \u001b[0;36mdispatch_one_batch\u001b[0;34m(self, iterator)\u001b[0m\n\u001b[1;32m    857\u001b[0m                 \u001b[0;32mreturn\u001b[0m \u001b[0;32mFalse\u001b[0m\u001b[0;34m\u001b[0m\u001b[0;34m\u001b[0m\u001b[0m\n\u001b[1;32m    858\u001b[0m             \u001b[0;32melse\u001b[0m\u001b[0;34m:\u001b[0m\u001b[0;34m\u001b[0m\u001b[0;34m\u001b[0m\u001b[0m\n\u001b[0;32m--> 859\u001b[0;31m                 \u001b[0mself\u001b[0m\u001b[0;34m.\u001b[0m\u001b[0m_dispatch\u001b[0m\u001b[0;34m(\u001b[0m\u001b[0mtasks\u001b[0m\u001b[0;34m)\u001b[0m\u001b[0;34m\u001b[0m\u001b[0;34m\u001b[0m\u001b[0m\n\u001b[0m\u001b[1;32m    860\u001b[0m                 \u001b[0;32mreturn\u001b[0m \u001b[0;32mTrue\u001b[0m\u001b[0;34m\u001b[0m\u001b[0;34m\u001b[0m\u001b[0m\n\u001b[1;32m    861\u001b[0m \u001b[0;34m\u001b[0m\u001b[0m\n",
            "\u001b[0;32m/usr/local/lib/python3.7/dist-packages/joblib/parallel.py\u001b[0m in \u001b[0;36m_dispatch\u001b[0;34m(self, batch)\u001b[0m\n\u001b[1;32m    775\u001b[0m         \u001b[0;32mwith\u001b[0m \u001b[0mself\u001b[0m\u001b[0;34m.\u001b[0m\u001b[0m_lock\u001b[0m\u001b[0;34m:\u001b[0m\u001b[0;34m\u001b[0m\u001b[0;34m\u001b[0m\u001b[0m\n\u001b[1;32m    776\u001b[0m             \u001b[0mjob_idx\u001b[0m \u001b[0;34m=\u001b[0m \u001b[0mlen\u001b[0m\u001b[0;34m(\u001b[0m\u001b[0mself\u001b[0m\u001b[0;34m.\u001b[0m\u001b[0m_jobs\u001b[0m\u001b[0;34m)\u001b[0m\u001b[0;34m\u001b[0m\u001b[0;34m\u001b[0m\u001b[0m\n\u001b[0;32m--> 777\u001b[0;31m             \u001b[0mjob\u001b[0m \u001b[0;34m=\u001b[0m \u001b[0mself\u001b[0m\u001b[0;34m.\u001b[0m\u001b[0m_backend\u001b[0m\u001b[0;34m.\u001b[0m\u001b[0mapply_async\u001b[0m\u001b[0;34m(\u001b[0m\u001b[0mbatch\u001b[0m\u001b[0;34m,\u001b[0m \u001b[0mcallback\u001b[0m\u001b[0;34m=\u001b[0m\u001b[0mcb\u001b[0m\u001b[0;34m)\u001b[0m\u001b[0;34m\u001b[0m\u001b[0;34m\u001b[0m\u001b[0m\n\u001b[0m\u001b[1;32m    778\u001b[0m             \u001b[0;31m# A job can complete so quickly than its callback is\u001b[0m\u001b[0;34m\u001b[0m\u001b[0;34m\u001b[0m\u001b[0;34m\u001b[0m\u001b[0m\n\u001b[1;32m    779\u001b[0m             \u001b[0;31m# called before we get here, causing self._jobs to\u001b[0m\u001b[0;34m\u001b[0m\u001b[0;34m\u001b[0m\u001b[0;34m\u001b[0m\u001b[0m\n",
            "\u001b[0;32m/usr/local/lib/python3.7/dist-packages/joblib/_parallel_backends.py\u001b[0m in \u001b[0;36mapply_async\u001b[0;34m(self, func, callback)\u001b[0m\n\u001b[1;32m    206\u001b[0m     \u001b[0;32mdef\u001b[0m \u001b[0mapply_async\u001b[0m\u001b[0;34m(\u001b[0m\u001b[0mself\u001b[0m\u001b[0;34m,\u001b[0m \u001b[0mfunc\u001b[0m\u001b[0;34m,\u001b[0m \u001b[0mcallback\u001b[0m\u001b[0;34m=\u001b[0m\u001b[0;32mNone\u001b[0m\u001b[0;34m)\u001b[0m\u001b[0;34m:\u001b[0m\u001b[0;34m\u001b[0m\u001b[0;34m\u001b[0m\u001b[0m\n\u001b[1;32m    207\u001b[0m         \u001b[0;34m\"\"\"Schedule a func to be run\"\"\"\u001b[0m\u001b[0;34m\u001b[0m\u001b[0;34m\u001b[0m\u001b[0m\n\u001b[0;32m--> 208\u001b[0;31m         \u001b[0mresult\u001b[0m \u001b[0;34m=\u001b[0m \u001b[0mImmediateResult\u001b[0m\u001b[0;34m(\u001b[0m\u001b[0mfunc\u001b[0m\u001b[0;34m)\u001b[0m\u001b[0;34m\u001b[0m\u001b[0;34m\u001b[0m\u001b[0m\n\u001b[0m\u001b[1;32m    209\u001b[0m         \u001b[0;32mif\u001b[0m \u001b[0mcallback\u001b[0m\u001b[0;34m:\u001b[0m\u001b[0;34m\u001b[0m\u001b[0;34m\u001b[0m\u001b[0m\n\u001b[1;32m    210\u001b[0m             \u001b[0mcallback\u001b[0m\u001b[0;34m(\u001b[0m\u001b[0mresult\u001b[0m\u001b[0;34m)\u001b[0m\u001b[0;34m\u001b[0m\u001b[0;34m\u001b[0m\u001b[0m\n",
            "\u001b[0;32m/usr/local/lib/python3.7/dist-packages/joblib/_parallel_backends.py\u001b[0m in \u001b[0;36m__init__\u001b[0;34m(self, batch)\u001b[0m\n\u001b[1;32m    570\u001b[0m         \u001b[0;31m# Don't delay the application, to avoid keeping the input\u001b[0m\u001b[0;34m\u001b[0m\u001b[0;34m\u001b[0m\u001b[0;34m\u001b[0m\u001b[0m\n\u001b[1;32m    571\u001b[0m         \u001b[0;31m# arguments in memory\u001b[0m\u001b[0;34m\u001b[0m\u001b[0;34m\u001b[0m\u001b[0;34m\u001b[0m\u001b[0m\n\u001b[0;32m--> 572\u001b[0;31m         \u001b[0mself\u001b[0m\u001b[0;34m.\u001b[0m\u001b[0mresults\u001b[0m \u001b[0;34m=\u001b[0m \u001b[0mbatch\u001b[0m\u001b[0;34m(\u001b[0m\u001b[0;34m)\u001b[0m\u001b[0;34m\u001b[0m\u001b[0;34m\u001b[0m\u001b[0m\n\u001b[0m\u001b[1;32m    573\u001b[0m \u001b[0;34m\u001b[0m\u001b[0m\n\u001b[1;32m    574\u001b[0m     \u001b[0;32mdef\u001b[0m \u001b[0mget\u001b[0m\u001b[0;34m(\u001b[0m\u001b[0mself\u001b[0m\u001b[0;34m)\u001b[0m\u001b[0;34m:\u001b[0m\u001b[0;34m\u001b[0m\u001b[0;34m\u001b[0m\u001b[0m\n",
            "\u001b[0;32m/usr/local/lib/python3.7/dist-packages/joblib/parallel.py\u001b[0m in \u001b[0;36m__call__\u001b[0;34m(self)\u001b[0m\n\u001b[1;32m    261\u001b[0m         \u001b[0;32mwith\u001b[0m \u001b[0mparallel_backend\u001b[0m\u001b[0;34m(\u001b[0m\u001b[0mself\u001b[0m\u001b[0;34m.\u001b[0m\u001b[0m_backend\u001b[0m\u001b[0;34m,\u001b[0m \u001b[0mn_jobs\u001b[0m\u001b[0;34m=\u001b[0m\u001b[0mself\u001b[0m\u001b[0;34m.\u001b[0m\u001b[0m_n_jobs\u001b[0m\u001b[0;34m)\u001b[0m\u001b[0;34m:\u001b[0m\u001b[0;34m\u001b[0m\u001b[0;34m\u001b[0m\u001b[0m\n\u001b[1;32m    262\u001b[0m             return [func(*args, **kwargs)\n\u001b[0;32m--> 263\u001b[0;31m                     for func, args, kwargs in self.items]\n\u001b[0m\u001b[1;32m    264\u001b[0m \u001b[0;34m\u001b[0m\u001b[0m\n\u001b[1;32m    265\u001b[0m     \u001b[0;32mdef\u001b[0m \u001b[0m__reduce__\u001b[0m\u001b[0;34m(\u001b[0m\u001b[0mself\u001b[0m\u001b[0;34m)\u001b[0m\u001b[0;34m:\u001b[0m\u001b[0;34m\u001b[0m\u001b[0;34m\u001b[0m\u001b[0m\n",
            "\u001b[0;32m/usr/local/lib/python3.7/dist-packages/joblib/parallel.py\u001b[0m in \u001b[0;36m<listcomp>\u001b[0;34m(.0)\u001b[0m\n\u001b[1;32m    261\u001b[0m         \u001b[0;32mwith\u001b[0m \u001b[0mparallel_backend\u001b[0m\u001b[0;34m(\u001b[0m\u001b[0mself\u001b[0m\u001b[0;34m.\u001b[0m\u001b[0m_backend\u001b[0m\u001b[0;34m,\u001b[0m \u001b[0mn_jobs\u001b[0m\u001b[0;34m=\u001b[0m\u001b[0mself\u001b[0m\u001b[0;34m.\u001b[0m\u001b[0m_n_jobs\u001b[0m\u001b[0;34m)\u001b[0m\u001b[0;34m:\u001b[0m\u001b[0;34m\u001b[0m\u001b[0;34m\u001b[0m\u001b[0m\n\u001b[1;32m    262\u001b[0m             return [func(*args, **kwargs)\n\u001b[0;32m--> 263\u001b[0;31m                     for func, args, kwargs in self.items]\n\u001b[0m\u001b[1;32m    264\u001b[0m \u001b[0;34m\u001b[0m\u001b[0m\n\u001b[1;32m    265\u001b[0m     \u001b[0;32mdef\u001b[0m \u001b[0m__reduce__\u001b[0m\u001b[0;34m(\u001b[0m\u001b[0mself\u001b[0m\u001b[0;34m)\u001b[0m\u001b[0;34m:\u001b[0m\u001b[0;34m\u001b[0m\u001b[0;34m\u001b[0m\u001b[0m\n",
            "\u001b[0;32m/usr/local/lib/python3.7/dist-packages/sklearn/ensemble/_forest.py\u001b[0m in \u001b[0;36m_parallel_build_trees\u001b[0;34m(tree, forest, X, y, sample_weight, tree_idx, n_trees, verbose, class_weight, n_samples_bootstrap)\u001b[0m\n\u001b[1;32m    163\u001b[0m             \u001b[0mcurr_sample_weight\u001b[0m \u001b[0;34m*=\u001b[0m \u001b[0mcompute_sample_weight\u001b[0m\u001b[0;34m(\u001b[0m\u001b[0;34m'balanced'\u001b[0m\u001b[0;34m,\u001b[0m \u001b[0my\u001b[0m\u001b[0;34m,\u001b[0m \u001b[0mindices\u001b[0m\u001b[0;34m)\u001b[0m\u001b[0;34m\u001b[0m\u001b[0;34m\u001b[0m\u001b[0m\n\u001b[1;32m    164\u001b[0m \u001b[0;34m\u001b[0m\u001b[0m\n\u001b[0;32m--> 165\u001b[0;31m         \u001b[0mtree\u001b[0m\u001b[0;34m.\u001b[0m\u001b[0mfit\u001b[0m\u001b[0;34m(\u001b[0m\u001b[0mX\u001b[0m\u001b[0;34m,\u001b[0m \u001b[0my\u001b[0m\u001b[0;34m,\u001b[0m \u001b[0msample_weight\u001b[0m\u001b[0;34m=\u001b[0m\u001b[0mcurr_sample_weight\u001b[0m\u001b[0;34m,\u001b[0m \u001b[0mcheck_input\u001b[0m\u001b[0;34m=\u001b[0m\u001b[0;32mFalse\u001b[0m\u001b[0;34m)\u001b[0m\u001b[0;34m\u001b[0m\u001b[0;34m\u001b[0m\u001b[0m\n\u001b[0m\u001b[1;32m    166\u001b[0m     \u001b[0;32melse\u001b[0m\u001b[0;34m:\u001b[0m\u001b[0;34m\u001b[0m\u001b[0;34m\u001b[0m\u001b[0m\n\u001b[1;32m    167\u001b[0m         \u001b[0mtree\u001b[0m\u001b[0;34m.\u001b[0m\u001b[0mfit\u001b[0m\u001b[0;34m(\u001b[0m\u001b[0mX\u001b[0m\u001b[0;34m,\u001b[0m \u001b[0my\u001b[0m\u001b[0;34m,\u001b[0m \u001b[0msample_weight\u001b[0m\u001b[0;34m=\u001b[0m\u001b[0msample_weight\u001b[0m\u001b[0;34m,\u001b[0m \u001b[0mcheck_input\u001b[0m\u001b[0;34m=\u001b[0m\u001b[0;32mFalse\u001b[0m\u001b[0;34m)\u001b[0m\u001b[0;34m\u001b[0m\u001b[0;34m\u001b[0m\u001b[0m\n",
            "\u001b[0;32m/usr/local/lib/python3.7/dist-packages/sklearn/tree/_classes.py\u001b[0m in \u001b[0;36mfit\u001b[0;34m(self, X, y, sample_weight, check_input, X_idx_sorted)\u001b[0m\n\u001b[1;32m    875\u001b[0m             \u001b[0msample_weight\u001b[0m\u001b[0;34m=\u001b[0m\u001b[0msample_weight\u001b[0m\u001b[0;34m,\u001b[0m\u001b[0;34m\u001b[0m\u001b[0;34m\u001b[0m\u001b[0m\n\u001b[1;32m    876\u001b[0m             \u001b[0mcheck_input\u001b[0m\u001b[0;34m=\u001b[0m\u001b[0mcheck_input\u001b[0m\u001b[0;34m,\u001b[0m\u001b[0;34m\u001b[0m\u001b[0;34m\u001b[0m\u001b[0m\n\u001b[0;32m--> 877\u001b[0;31m             X_idx_sorted=X_idx_sorted)\n\u001b[0m\u001b[1;32m    878\u001b[0m         \u001b[0;32mreturn\u001b[0m \u001b[0mself\u001b[0m\u001b[0;34m\u001b[0m\u001b[0;34m\u001b[0m\u001b[0m\n\u001b[1;32m    879\u001b[0m \u001b[0;34m\u001b[0m\u001b[0m\n",
            "\u001b[0;32m/usr/local/lib/python3.7/dist-packages/sklearn/tree/_classes.py\u001b[0m in \u001b[0;36mfit\u001b[0;34m(self, X, y, sample_weight, check_input, X_idx_sorted)\u001b[0m\n\u001b[1;32m    365\u001b[0m                                            min_impurity_split)\n\u001b[1;32m    366\u001b[0m \u001b[0;34m\u001b[0m\u001b[0m\n\u001b[0;32m--> 367\u001b[0;31m         \u001b[0mbuilder\u001b[0m\u001b[0;34m.\u001b[0m\u001b[0mbuild\u001b[0m\u001b[0;34m(\u001b[0m\u001b[0mself\u001b[0m\u001b[0;34m.\u001b[0m\u001b[0mtree_\u001b[0m\u001b[0;34m,\u001b[0m \u001b[0mX\u001b[0m\u001b[0;34m,\u001b[0m \u001b[0my\u001b[0m\u001b[0;34m,\u001b[0m \u001b[0msample_weight\u001b[0m\u001b[0;34m,\u001b[0m \u001b[0mX_idx_sorted\u001b[0m\u001b[0;34m)\u001b[0m\u001b[0;34m\u001b[0m\u001b[0;34m\u001b[0m\u001b[0m\n\u001b[0m\u001b[1;32m    368\u001b[0m \u001b[0;34m\u001b[0m\u001b[0m\n\u001b[1;32m    369\u001b[0m         \u001b[0;32mif\u001b[0m \u001b[0mself\u001b[0m\u001b[0;34m.\u001b[0m\u001b[0mn_outputs_\u001b[0m \u001b[0;34m==\u001b[0m \u001b[0;36m1\u001b[0m \u001b[0;32mand\u001b[0m \u001b[0mis_classifier\u001b[0m\u001b[0;34m(\u001b[0m\u001b[0mself\u001b[0m\u001b[0;34m)\u001b[0m\u001b[0;34m:\u001b[0m\u001b[0;34m\u001b[0m\u001b[0;34m\u001b[0m\u001b[0m\n",
            "\u001b[0;31mKeyboardInterrupt\u001b[0m: "
          ]
        }
      ]
    },
    {
      "cell_type": "code",
      "metadata": {
        "colab": {
          "base_uri": "https://localhost:8080/"
        },
        "id": "vDIs4rhnrUl3",
        "outputId": "38d5863a-1838-4138-b573-f730d69699be"
      },
      "source": [
        "from sklearn.metrics import classification_report, confusion_matrix, accuracy_score\n",
        "model1 = RandomForestClassifier(n_estimators=100)\n",
        "A = df.to_numpy()\n",
        "b = labels.to_numpy()\n",
        "skf = StratifiedKFold(n_splits=5)\n",
        "skf.get_n_splits(A, b)\n",
        "\n",
        "for train_ix, test_ix in skf.split(A, b):\n",
        "  train_X, test_X = A[train_ix], A[test_ix]\n",
        "  train_y, test_y = b[train_ix], b[test_ix]\n",
        "  train_0, train_1 = len(train_y[train_y==0]), len(train_y[train_y==1])\n",
        "  test_0, test_1 = len(test_y[test_y==0]), len(test_y[test_y==1])\n",
        "  print('>Train: 0=%d, 1=%d, Test: 0=%d, 1=%d' % (train_0, train_1, test_0, test_1))\n",
        "\n",
        "  model1.fit(train_X, np.ravel(train_y,order='C'))\n",
        "  y_pred = model1.predict(test_X)\n",
        "  print(confusion_matrix(test_y,y_pred))\n",
        "  print(classification_report(test_y,y_pred))\n",
        "  print(accuracy_score(test_y, y_pred))"
      ],
      "execution_count": null,
      "outputs": [
        {
          "output_type": "stream",
          "text": [
            ">Train: 0=257733, 1=29508, Test: 0=64434, 1=7377\n",
            "[[64266   168]\n",
            " [ 6845   532]]\n",
            "              precision    recall  f1-score   support\n",
            "\n",
            "           0       0.90      1.00      0.95     64434\n",
            "           1       0.76      0.07      0.13      7377\n",
            "\n",
            "    accuracy                           0.90     71811\n",
            "   macro avg       0.83      0.53      0.54     71811\n",
            "weighted avg       0.89      0.90      0.86     71811\n",
            "\n",
            "0.9023408669980922\n",
            ">Train: 0=257733, 1=29508, Test: 0=64434, 1=7377\n",
            "[[64314   120]\n",
            " [ 7005   372]]\n",
            "              precision    recall  f1-score   support\n",
            "\n",
            "           0       0.90      1.00      0.95     64434\n",
            "           1       0.76      0.05      0.09      7377\n",
            "\n",
            "    accuracy                           0.90     71811\n",
            "   macro avg       0.83      0.52      0.52     71811\n",
            "weighted avg       0.89      0.90      0.86     71811\n",
            "\n",
            "0.9007812173622426\n",
            ">Train: 0=257734, 1=29508, Test: 0=64433, 1=7377\n",
            "[[62090  2343]\n",
            " [ 6416   961]]\n",
            "              precision    recall  f1-score   support\n",
            "\n",
            "           0       0.91      0.96      0.93     64433\n",
            "           1       0.29      0.13      0.18      7377\n",
            "\n",
            "    accuracy                           0.88     71810\n",
            "   macro avg       0.60      0.55      0.56     71810\n",
            "weighted avg       0.84      0.88      0.86     71810\n",
            "\n",
            "0.8780253446595182\n",
            ">Train: 0=257734, 1=29508, Test: 0=64433, 1=7377\n",
            "[[64097   336]\n",
            " [ 6906   471]]\n",
            "              precision    recall  f1-score   support\n",
            "\n",
            "           0       0.90      0.99      0.95     64433\n",
            "           1       0.58      0.06      0.12      7377\n",
            "\n",
            "    accuracy                           0.90     71810\n",
            "   macro avg       0.74      0.53      0.53     71810\n",
            "weighted avg       0.87      0.90      0.86     71810\n",
            "\n",
            "0.8991505361370282\n",
            ">Train: 0=257734, 1=29508, Test: 0=64433, 1=7377\n",
            "[[64257   176]\n",
            " [ 6968   409]]\n",
            "              precision    recall  f1-score   support\n",
            "\n",
            "           0       0.90      1.00      0.95     64433\n",
            "           1       0.70      0.06      0.10      7377\n",
            "\n",
            "    accuracy                           0.90     71810\n",
            "   macro avg       0.80      0.53      0.53     71810\n",
            "weighted avg       0.88      0.90      0.86     71810\n",
            "\n",
            "0.9005152485726222\n"
          ],
          "name": "stdout"
        }
      ]
    },
    {
      "cell_type": "code",
      "metadata": {
        "id": "fEnJjRTIZ11f",
        "scrolled": true
      },
      "source": [
        "importances = model1.feature_importances_\n",
        "std = np.std([tree.feature_importances_ for tree in model1.estimators_],\n",
        "             axis=0)\n",
        "indices = np.argsort(importances)[::-1]"
      ],
      "execution_count": null,
      "outputs": []
    },
    {
      "cell_type": "code",
      "metadata": {
        "id": "kP9_B4F1Z11g",
        "colab": {
          "base_uri": "https://localhost:8080/"
        },
        "outputId": "82ff5bee-8243-496e-9c5d-ca49eea01a65"
      },
      "source": [
        "indices"
      ],
      "execution_count": null,
      "outputs": [
        {
          "output_type": "execute_result",
          "data": {
            "text/plain": [
              "array([ 5,  9,  4,  2,  6,  0,  1,  3,  7,  8, 16, 10, 11, 14, 13, 12, 15])"
            ]
          },
          "metadata": {
            "tags": []
          },
          "execution_count": 18
        }
      ]
    },
    {
      "cell_type": "code",
      "metadata": {
        "id": "8vH5TtrxZ11h",
        "colab": {
          "base_uri": "https://localhost:8080/"
        },
        "outputId": "9446b072-85f1-45de-e7c7-7eff156dadab"
      },
      "source": [
        "importances"
      ],
      "execution_count": null,
      "outputs": [
        {
          "output_type": "execute_result",
          "data": {
            "text/plain": [
              "array([0.0905291 , 0.08717777, 0.09105368, 0.06844289, 0.09306185,\n",
              "       0.09727001, 0.09086789, 0.06758482, 0.06578916, 0.09669344,\n",
              "       0.03687046, 0.0205167 , 0.01020383, 0.01064852, 0.0149296 ,\n",
              "       0.00902621, 0.04933409])"
            ]
          },
          "metadata": {
            "tags": []
          },
          "execution_count": 19
        }
      ]
    },
    {
      "cell_type": "code",
      "metadata": {
        "id": "Zl0U6o8dZ11j"
      },
      "source": [
        ""
      ],
      "execution_count": null,
      "outputs": []
    },
    {
      "cell_type": "code",
      "metadata": {
        "id": "93mTr88MWvwE"
      },
      "source": [
        ""
      ],
      "execution_count": null,
      "outputs": []
    },
    {
      "cell_type": "code",
      "metadata": {
        "id": "TLCRIRb5Z11j"
      },
      "source": [
        ""
      ],
      "execution_count": null,
      "outputs": []
    },
    {
      "cell_type": "code",
      "metadata": {
        "id": "GVUW5qhVZ11k"
      },
      "source": [
        ""
      ],
      "execution_count": null,
      "outputs": []
    },
    {
      "cell_type": "code",
      "metadata": {
        "id": "48Pw4J1hZ11k"
      },
      "source": [
        ""
      ],
      "execution_count": null,
      "outputs": []
    },
    {
      "cell_type": "code",
      "metadata": {
        "id": "7VfgD3BDZ11l"
      },
      "source": [
        ""
      ],
      "execution_count": null,
      "outputs": []
    },
    {
      "cell_type": "code",
      "metadata": {
        "id": "93SHaJv2Z11l"
      },
      "source": [
        ""
      ],
      "execution_count": null,
      "outputs": []
    },
    {
      "cell_type": "code",
      "metadata": {
        "id": "CNxB-1omZ11l"
      },
      "source": [
        ""
      ],
      "execution_count": null,
      "outputs": []
    },
    {
      "cell_type": "code",
      "metadata": {
        "id": "T77iG4eNZ11m"
      },
      "source": [
        ""
      ],
      "execution_count": null,
      "outputs": []
    },
    {
      "cell_type": "code",
      "metadata": {
        "id": "0X8mOz7VZ11m"
      },
      "source": [
        ""
      ],
      "execution_count": null,
      "outputs": []
    },
    {
      "cell_type": "code",
      "metadata": {
        "id": "U-7tf4tbZ11m"
      },
      "source": [
        ""
      ],
      "execution_count": null,
      "outputs": []
    },
    {
      "cell_type": "code",
      "metadata": {
        "id": "HajfTg54Z11m"
      },
      "source": [
        ""
      ],
      "execution_count": null,
      "outputs": []
    }
  ]
}